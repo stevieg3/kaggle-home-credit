{
 "cells": [
  {
   "cell_type": "markdown",
   "metadata": {},
   "source": [
    "# Oversampling and probability calibration"
   ]
  },
  {
   "cell_type": "markdown",
   "metadata": {},
   "source": [
    "When we trained a neural network with an optimal set of hyperparameters we found that all predictions were capped at 0.2573042 with multiple examples outputting this value. In this notebook we rebalance the data and explore probability calibration to see if this resolves the issue."
   ]
  },
  {
   "cell_type": "code",
   "execution_count": 1,
   "metadata": {},
   "outputs": [
    {
     "name": "stderr",
     "output_type": "stream",
     "text": [
      "Using TensorFlow backend.\n"
     ]
    }
   ],
   "source": [
    "import os\n",
    "import pickle\n",
    "\n",
    "import pandas as pd\n",
    "import numpy as np\n",
    "import matplotlib.pyplot as plt\n",
    "import seaborn as sns\n",
    "from sklearn.impute import SimpleImputer\n",
    "from sklearn.preprocessing import MinMaxScaler\n",
    "from sklearn.metrics import roc_auc_score\n",
    "from hyperopt import hp, fmin, rand, tpe, Trials\n",
    "from hyperopt.pyll.stochastic import sample\n",
    "import keras"
   ]
  },
  {
   "cell_type": "code",
   "execution_count": 2,
   "metadata": {},
   "outputs": [],
   "source": [
    "os.chdir('..')"
   ]
  },
  {
   "cell_type": "code",
   "execution_count": 3,
   "metadata": {},
   "outputs": [],
   "source": [
    "from src.data.utils import load_datasets\n",
    "from src.models.neural_network import SimpleNeuralNetwork"
   ]
  },
  {
   "cell_type": "markdown",
   "metadata": {},
   "source": [
    "## Load data"
   ]
  },
  {
   "cell_type": "markdown",
   "metadata": {},
   "source": [
    "Now includes all features"
   ]
  },
  {
   "cell_type": "code",
   "execution_count": 4,
   "metadata": {},
   "outputs": [],
   "source": [
    "RANDOM_SEED=42"
   ]
  },
  {
   "cell_type": "code",
   "execution_count": 5,
   "metadata": {},
   "outputs": [
    {
     "name": "stdout",
     "output_type": "stream",
     "text": [
      "Finished previous_application!\n",
      "Finished installments_payments!\n",
      "Finished pos_cash_balance!\n",
      "Finished credit_card_balance!\n",
      "CPU times: user 2min 47s, sys: 1min 43s, total: 4min 30s\n",
      "Wall time: 5min 5s\n"
     ]
    }
   ],
   "source": [
    "%%time\n",
    "train, dev, test, test_kaggle = load_datasets(random_seed=RANDOM_SEED)"
   ]
  },
  {
   "cell_type": "code",
   "execution_count": 6,
   "metadata": {},
   "outputs": [
    {
     "data": {
      "text/plain": [
       "(184506, 1151)"
      ]
     },
     "execution_count": 6,
     "metadata": {},
     "output_type": "execute_result"
    }
   ],
   "source": [
    "train.shape"
   ]
  },
  {
   "cell_type": "code",
   "execution_count": 7,
   "metadata": {},
   "outputs": [
    {
     "data": {
      "text/plain": [
       "212"
      ]
     },
     "execution_count": 7,
     "metadata": {},
     "output_type": "execute_result"
    }
   ],
   "source": [
    "# Features used in best LGBM:\n",
    "FINAL_FEATURES =  pickle.load(open('models/lgbm_all_features_reduced_random_FEATURES.pickle', 'rb'))\n",
    "len(FINAL_FEATURES)"
   ]
  },
  {
   "cell_type": "code",
   "execution_count": 8,
   "metadata": {},
   "outputs": [
    {
     "data": {
      "text/html": [
       "<div>\n",
       "<style scoped>\n",
       "    .dataframe tbody tr th:only-of-type {\n",
       "        vertical-align: middle;\n",
       "    }\n",
       "\n",
       "    .dataframe tbody tr th {\n",
       "        vertical-align: top;\n",
       "    }\n",
       "\n",
       "    .dataframe thead th {\n",
       "        text-align: right;\n",
       "    }\n",
       "</style>\n",
       "<table border=\"1\" class=\"dataframe\">\n",
       "  <thead>\n",
       "    <tr style=\"text-align: right;\">\n",
       "      <th></th>\n",
       "      <th>SK_ID_CURR</th>\n",
       "      <th>TARGET</th>\n",
       "      <th>CNT_CHILDREN</th>\n",
       "      <th>AMT_INCOME_TOTAL</th>\n",
       "      <th>AMT_CREDIT</th>\n",
       "      <th>AMT_ANNUITY</th>\n",
       "      <th>AMT_GOODS_PRICE</th>\n",
       "      <th>REGION_POPULATION_RELATIVE</th>\n",
       "      <th>DAYS_BIRTH</th>\n",
       "      <th>DAYS_EMPLOYED</th>\n",
       "      <th>...</th>\n",
       "      <th>POS_CASH_balance_SK_DPD_DEF_amax_sum_y</th>\n",
       "      <th>POS_CASH_balance_SK_DPD_DEF_amax_amin_y</th>\n",
       "      <th>POS_CASH_balance_SK_DPD_DEF_amax_amax_y</th>\n",
       "      <th>POS_CASH_balance_COUNT_COUNT_NAME_CONTRACT_STATUS_Active_y</th>\n",
       "      <th>POS_CASH_balance_COUNT_COUNT_NAME_CONTRACT_STATUS_Approved_y</th>\n",
       "      <th>POS_CASH_balance_COUNT_COUNT_NAME_CONTRACT_STATUS_Completed_y</th>\n",
       "      <th>POS_CASH_balance_COUNT_COUNT_NAME_CONTRACT_STATUS_Demand_y</th>\n",
       "      <th>POS_CASH_balance_COUNT_COUNT_NAME_CONTRACT_STATUS_Refused</th>\n",
       "      <th>POS_CASH_balance_COUNT_COUNT_NAME_CONTRACT_STATUS_Sent_proposal</th>\n",
       "      <th>POS_CASH_balance_COUNT_COUNT_NAME_CONTRACT_STATUS_Signed_y</th>\n",
       "    </tr>\n",
       "  </thead>\n",
       "  <tbody>\n",
       "    <tr>\n",
       "      <th>170657</th>\n",
       "      <td>297783</td>\n",
       "      <td>0.0</td>\n",
       "      <td>0</td>\n",
       "      <td>74250.0</td>\n",
       "      <td>112500.0</td>\n",
       "      <td>6282.0</td>\n",
       "      <td>112500.0</td>\n",
       "      <td>0.018850</td>\n",
       "      <td>-15077</td>\n",
       "      <td>-7915</td>\n",
       "      <td>...</td>\n",
       "      <td>0.0</td>\n",
       "      <td>0.0</td>\n",
       "      <td>0.0</td>\n",
       "      <td>95.0</td>\n",
       "      <td>0.0</td>\n",
       "      <td>0.0</td>\n",
       "      <td>0.0</td>\n",
       "      <td>0.0</td>\n",
       "      <td>0.0</td>\n",
       "      <td>0.0</td>\n",
       "    </tr>\n",
       "    <tr>\n",
       "      <th>251121</th>\n",
       "      <td>390572</td>\n",
       "      <td>0.0</td>\n",
       "      <td>2</td>\n",
       "      <td>225000.0</td>\n",
       "      <td>810000.0</td>\n",
       "      <td>40500.0</td>\n",
       "      <td>810000.0</td>\n",
       "      <td>0.035792</td>\n",
       "      <td>-14311</td>\n",
       "      <td>-1858</td>\n",
       "      <td>...</td>\n",
       "      <td>NaN</td>\n",
       "      <td>NaN</td>\n",
       "      <td>NaN</td>\n",
       "      <td>NaN</td>\n",
       "      <td>NaN</td>\n",
       "      <td>NaN</td>\n",
       "      <td>NaN</td>\n",
       "      <td>NaN</td>\n",
       "      <td>NaN</td>\n",
       "      <td>NaN</td>\n",
       "    </tr>\n",
       "    <tr>\n",
       "      <th>96789</th>\n",
       "      <td>212363</td>\n",
       "      <td>0.0</td>\n",
       "      <td>0</td>\n",
       "      <td>225000.0</td>\n",
       "      <td>1546020.0</td>\n",
       "      <td>42642.0</td>\n",
       "      <td>1350000.0</td>\n",
       "      <td>0.032561</td>\n",
       "      <td>-15236</td>\n",
       "      <td>-5751</td>\n",
       "      <td>...</td>\n",
       "      <td>0.0</td>\n",
       "      <td>0.0</td>\n",
       "      <td>0.0</td>\n",
       "      <td>40.0</td>\n",
       "      <td>0.0</td>\n",
       "      <td>0.0</td>\n",
       "      <td>0.0</td>\n",
       "      <td>0.0</td>\n",
       "      <td>0.0</td>\n",
       "      <td>0.0</td>\n",
       "    </tr>\n",
       "    <tr>\n",
       "      <th>14042</th>\n",
       "      <td>116368</td>\n",
       "      <td>1.0</td>\n",
       "      <td>1</td>\n",
       "      <td>202500.0</td>\n",
       "      <td>444420.0</td>\n",
       "      <td>30195.0</td>\n",
       "      <td>337500.0</td>\n",
       "      <td>0.018850</td>\n",
       "      <td>-17688</td>\n",
       "      <td>-754</td>\n",
       "      <td>...</td>\n",
       "      <td>0.0</td>\n",
       "      <td>0.0</td>\n",
       "      <td>0.0</td>\n",
       "      <td>18.0</td>\n",
       "      <td>0.0</td>\n",
       "      <td>1.0</td>\n",
       "      <td>0.0</td>\n",
       "      <td>0.0</td>\n",
       "      <td>0.0</td>\n",
       "      <td>0.0</td>\n",
       "    </tr>\n",
       "    <tr>\n",
       "      <th>32597</th>\n",
       "      <td>137783</td>\n",
       "      <td>0.0</td>\n",
       "      <td>2</td>\n",
       "      <td>126000.0</td>\n",
       "      <td>1216201.5</td>\n",
       "      <td>35689.5</td>\n",
       "      <td>1062000.0</td>\n",
       "      <td>0.018029</td>\n",
       "      <td>-14030</td>\n",
       "      <td>-368</td>\n",
       "      <td>...</td>\n",
       "      <td>NaN</td>\n",
       "      <td>NaN</td>\n",
       "      <td>NaN</td>\n",
       "      <td>NaN</td>\n",
       "      <td>NaN</td>\n",
       "      <td>NaN</td>\n",
       "      <td>NaN</td>\n",
       "      <td>NaN</td>\n",
       "      <td>NaN</td>\n",
       "      <td>NaN</td>\n",
       "    </tr>\n",
       "  </tbody>\n",
       "</table>\n",
       "<p>5 rows × 1151 columns</p>\n",
       "</div>"
      ],
      "text/plain": [
       "        SK_ID_CURR  TARGET  CNT_CHILDREN  AMT_INCOME_TOTAL  AMT_CREDIT  \\\n",
       "170657      297783     0.0             0           74250.0    112500.0   \n",
       "251121      390572     0.0             2          225000.0    810000.0   \n",
       "96789       212363     0.0             0          225000.0   1546020.0   \n",
       "14042       116368     1.0             1          202500.0    444420.0   \n",
       "32597       137783     0.0             2          126000.0   1216201.5   \n",
       "\n",
       "        AMT_ANNUITY  AMT_GOODS_PRICE  REGION_POPULATION_RELATIVE  DAYS_BIRTH  \\\n",
       "170657       6282.0         112500.0                    0.018850      -15077   \n",
       "251121      40500.0         810000.0                    0.035792      -14311   \n",
       "96789       42642.0        1350000.0                    0.032561      -15236   \n",
       "14042       30195.0         337500.0                    0.018850      -17688   \n",
       "32597       35689.5        1062000.0                    0.018029      -14030   \n",
       "\n",
       "        DAYS_EMPLOYED  ...  POS_CASH_balance_SK_DPD_DEF_amax_sum_y  \\\n",
       "170657          -7915  ...                                     0.0   \n",
       "251121          -1858  ...                                     NaN   \n",
       "96789           -5751  ...                                     0.0   \n",
       "14042            -754  ...                                     0.0   \n",
       "32597            -368  ...                                     NaN   \n",
       "\n",
       "        POS_CASH_balance_SK_DPD_DEF_amax_amin_y  \\\n",
       "170657                                      0.0   \n",
       "251121                                      NaN   \n",
       "96789                                       0.0   \n",
       "14042                                       0.0   \n",
       "32597                                       NaN   \n",
       "\n",
       "        POS_CASH_balance_SK_DPD_DEF_amax_amax_y  \\\n",
       "170657                                      0.0   \n",
       "251121                                      NaN   \n",
       "96789                                       0.0   \n",
       "14042                                       0.0   \n",
       "32597                                       NaN   \n",
       "\n",
       "        POS_CASH_balance_COUNT_COUNT_NAME_CONTRACT_STATUS_Active_y  \\\n",
       "170657                                               95.0            \n",
       "251121                                                NaN            \n",
       "96789                                                40.0            \n",
       "14042                                                18.0            \n",
       "32597                                                 NaN            \n",
       "\n",
       "        POS_CASH_balance_COUNT_COUNT_NAME_CONTRACT_STATUS_Approved_y  \\\n",
       "170657                                                0.0              \n",
       "251121                                                NaN              \n",
       "96789                                                 0.0              \n",
       "14042                                                 0.0              \n",
       "32597                                                 NaN              \n",
       "\n",
       "        POS_CASH_balance_COUNT_COUNT_NAME_CONTRACT_STATUS_Completed_y  \\\n",
       "170657                                                0.0               \n",
       "251121                                                NaN               \n",
       "96789                                                 0.0               \n",
       "14042                                                 1.0               \n",
       "32597                                                 NaN               \n",
       "\n",
       "        POS_CASH_balance_COUNT_COUNT_NAME_CONTRACT_STATUS_Demand_y  \\\n",
       "170657                                                0.0            \n",
       "251121                                                NaN            \n",
       "96789                                                 0.0            \n",
       "14042                                                 0.0            \n",
       "32597                                                 NaN            \n",
       "\n",
       "        POS_CASH_balance_COUNT_COUNT_NAME_CONTRACT_STATUS_Refused  \\\n",
       "170657                                                0.0           \n",
       "251121                                                NaN           \n",
       "96789                                                 0.0           \n",
       "14042                                                 0.0           \n",
       "32597                                                 NaN           \n",
       "\n",
       "        POS_CASH_balance_COUNT_COUNT_NAME_CONTRACT_STATUS_Sent_proposal  \\\n",
       "170657                                                0.0                 \n",
       "251121                                                NaN                 \n",
       "96789                                                 0.0                 \n",
       "14042                                                 0.0                 \n",
       "32597                                                 NaN                 \n",
       "\n",
       "        POS_CASH_balance_COUNT_COUNT_NAME_CONTRACT_STATUS_Signed_y  \n",
       "170657                                                0.0           \n",
       "251121                                                NaN           \n",
       "96789                                                 0.0           \n",
       "14042                                                 0.0           \n",
       "32597                                                 NaN           \n",
       "\n",
       "[5 rows x 1151 columns]"
      ]
     },
     "execution_count": 8,
     "metadata": {},
     "output_type": "execute_result"
    }
   ],
   "source": [
    "train.head()"
   ]
  },
  {
   "cell_type": "code",
   "execution_count": 9,
   "metadata": {},
   "outputs": [],
   "source": [
    "X_train = train[FINAL_FEATURES]\n",
    "y_train = train['TARGET']\n",
    "X_dev = dev[FINAL_FEATURES]\n",
    "y_dev = dev['TARGET']"
   ]
  },
  {
   "cell_type": "code",
   "execution_count": 10,
   "metadata": {},
   "outputs": [
    {
     "data": {
      "text/plain": [
       "165"
      ]
     },
     "execution_count": 10,
     "metadata": {},
     "output_type": "execute_result"
    }
   ],
   "source": [
    "aggregated_features = [\n",
    "    feat for feat in FINAL_FEATURES if feat.startswith(('bureau_balance_', 'bureau_', 'POS_CASH_balance_'))\n",
    "]\n",
    "len(aggregated_features)"
   ]
  },
  {
   "cell_type": "markdown",
   "metadata": {},
   "source": [
    "## Oversample positive examples"
   ]
  },
  {
   "cell_type": "code",
   "execution_count": 11,
   "metadata": {},
   "outputs": [
    {
     "data": {
      "text/plain": [
       "0.08053396637507723"
      ]
     },
     "execution_count": 11,
     "metadata": {},
     "output_type": "execute_result"
    }
   ],
   "source": [
    "y_train.mean()"
   ]
  },
  {
   "cell_type": "markdown",
   "metadata": {},
   "source": [
    "Only 8% positive examples. Not massively inbalanced but may be causing an issue. We oversample (randomly sample positive examples) until we have a 50-50 split of positive and negative examples."
   ]
  },
  {
   "cell_type": "code",
   "execution_count": 12,
   "metadata": {},
   "outputs": [],
   "source": [
    "num_negative_examples = (y_train==0).sum()\n",
    "num_positive_examples = y_train.sum()\n",
    "\n",
    "number_of_positive_examples_to_sample = num_negative_examples - num_positive_examples"
   ]
  },
  {
   "cell_type": "code",
   "execution_count": 13,
   "metadata": {},
   "outputs": [
    {
     "data": {
      "text/plain": [
       "154788.0"
      ]
     },
     "execution_count": 13,
     "metadata": {},
     "output_type": "execute_result"
    }
   ],
   "source": [
    "number_of_positive_examples_to_sample"
   ]
  },
  {
   "cell_type": "code",
   "execution_count": 14,
   "metadata": {},
   "outputs": [
    {
     "data": {
      "text/html": [
       "<div>\n",
       "<style scoped>\n",
       "    .dataframe tbody tr th:only-of-type {\n",
       "        vertical-align: middle;\n",
       "    }\n",
       "\n",
       "    .dataframe tbody tr th {\n",
       "        vertical-align: top;\n",
       "    }\n",
       "\n",
       "    .dataframe thead th {\n",
       "        text-align: right;\n",
       "    }\n",
       "</style>\n",
       "<table border=\"1\" class=\"dataframe\">\n",
       "  <thead>\n",
       "    <tr style=\"text-align: right;\">\n",
       "      <th></th>\n",
       "      <th>SK_ID_CURR</th>\n",
       "      <th>TARGET</th>\n",
       "      <th>CNT_CHILDREN</th>\n",
       "      <th>AMT_INCOME_TOTAL</th>\n",
       "      <th>AMT_CREDIT</th>\n",
       "      <th>AMT_ANNUITY</th>\n",
       "      <th>AMT_GOODS_PRICE</th>\n",
       "      <th>REGION_POPULATION_RELATIVE</th>\n",
       "      <th>DAYS_BIRTH</th>\n",
       "      <th>DAYS_EMPLOYED</th>\n",
       "      <th>...</th>\n",
       "      <th>POS_CASH_balance_SK_DPD_DEF_amax_sum_y</th>\n",
       "      <th>POS_CASH_balance_SK_DPD_DEF_amax_amin_y</th>\n",
       "      <th>POS_CASH_balance_SK_DPD_DEF_amax_amax_y</th>\n",
       "      <th>POS_CASH_balance_COUNT_COUNT_NAME_CONTRACT_STATUS_Active_y</th>\n",
       "      <th>POS_CASH_balance_COUNT_COUNT_NAME_CONTRACT_STATUS_Approved_y</th>\n",
       "      <th>POS_CASH_balance_COUNT_COUNT_NAME_CONTRACT_STATUS_Completed_y</th>\n",
       "      <th>POS_CASH_balance_COUNT_COUNT_NAME_CONTRACT_STATUS_Demand_y</th>\n",
       "      <th>POS_CASH_balance_COUNT_COUNT_NAME_CONTRACT_STATUS_Refused</th>\n",
       "      <th>POS_CASH_balance_COUNT_COUNT_NAME_CONTRACT_STATUS_Sent_proposal</th>\n",
       "      <th>POS_CASH_balance_COUNT_COUNT_NAME_CONTRACT_STATUS_Signed_y</th>\n",
       "    </tr>\n",
       "  </thead>\n",
       "  <tbody>\n",
       "    <tr>\n",
       "      <th>170657</th>\n",
       "      <td>297783</td>\n",
       "      <td>0.0</td>\n",
       "      <td>0</td>\n",
       "      <td>74250.0</td>\n",
       "      <td>112500.0</td>\n",
       "      <td>6282.0</td>\n",
       "      <td>112500.0</td>\n",
       "      <td>0.018850</td>\n",
       "      <td>-15077</td>\n",
       "      <td>-7915</td>\n",
       "      <td>...</td>\n",
       "      <td>0.0</td>\n",
       "      <td>0.0</td>\n",
       "      <td>0.0</td>\n",
       "      <td>95.0</td>\n",
       "      <td>0.0</td>\n",
       "      <td>0.0</td>\n",
       "      <td>0.0</td>\n",
       "      <td>0.0</td>\n",
       "      <td>0.0</td>\n",
       "      <td>0.0</td>\n",
       "    </tr>\n",
       "    <tr>\n",
       "      <th>251121</th>\n",
       "      <td>390572</td>\n",
       "      <td>0.0</td>\n",
       "      <td>2</td>\n",
       "      <td>225000.0</td>\n",
       "      <td>810000.0</td>\n",
       "      <td>40500.0</td>\n",
       "      <td>810000.0</td>\n",
       "      <td>0.035792</td>\n",
       "      <td>-14311</td>\n",
       "      <td>-1858</td>\n",
       "      <td>...</td>\n",
       "      <td>NaN</td>\n",
       "      <td>NaN</td>\n",
       "      <td>NaN</td>\n",
       "      <td>NaN</td>\n",
       "      <td>NaN</td>\n",
       "      <td>NaN</td>\n",
       "      <td>NaN</td>\n",
       "      <td>NaN</td>\n",
       "      <td>NaN</td>\n",
       "      <td>NaN</td>\n",
       "    </tr>\n",
       "    <tr>\n",
       "      <th>96789</th>\n",
       "      <td>212363</td>\n",
       "      <td>0.0</td>\n",
       "      <td>0</td>\n",
       "      <td>225000.0</td>\n",
       "      <td>1546020.0</td>\n",
       "      <td>42642.0</td>\n",
       "      <td>1350000.0</td>\n",
       "      <td>0.032561</td>\n",
       "      <td>-15236</td>\n",
       "      <td>-5751</td>\n",
       "      <td>...</td>\n",
       "      <td>0.0</td>\n",
       "      <td>0.0</td>\n",
       "      <td>0.0</td>\n",
       "      <td>40.0</td>\n",
       "      <td>0.0</td>\n",
       "      <td>0.0</td>\n",
       "      <td>0.0</td>\n",
       "      <td>0.0</td>\n",
       "      <td>0.0</td>\n",
       "      <td>0.0</td>\n",
       "    </tr>\n",
       "    <tr>\n",
       "      <th>14042</th>\n",
       "      <td>116368</td>\n",
       "      <td>1.0</td>\n",
       "      <td>1</td>\n",
       "      <td>202500.0</td>\n",
       "      <td>444420.0</td>\n",
       "      <td>30195.0</td>\n",
       "      <td>337500.0</td>\n",
       "      <td>0.018850</td>\n",
       "      <td>-17688</td>\n",
       "      <td>-754</td>\n",
       "      <td>...</td>\n",
       "      <td>0.0</td>\n",
       "      <td>0.0</td>\n",
       "      <td>0.0</td>\n",
       "      <td>18.0</td>\n",
       "      <td>0.0</td>\n",
       "      <td>1.0</td>\n",
       "      <td>0.0</td>\n",
       "      <td>0.0</td>\n",
       "      <td>0.0</td>\n",
       "      <td>0.0</td>\n",
       "    </tr>\n",
       "    <tr>\n",
       "      <th>32597</th>\n",
       "      <td>137783</td>\n",
       "      <td>0.0</td>\n",
       "      <td>2</td>\n",
       "      <td>126000.0</td>\n",
       "      <td>1216201.5</td>\n",
       "      <td>35689.5</td>\n",
       "      <td>1062000.0</td>\n",
       "      <td>0.018029</td>\n",
       "      <td>-14030</td>\n",
       "      <td>-368</td>\n",
       "      <td>...</td>\n",
       "      <td>NaN</td>\n",
       "      <td>NaN</td>\n",
       "      <td>NaN</td>\n",
       "      <td>NaN</td>\n",
       "      <td>NaN</td>\n",
       "      <td>NaN</td>\n",
       "      <td>NaN</td>\n",
       "      <td>NaN</td>\n",
       "      <td>NaN</td>\n",
       "      <td>NaN</td>\n",
       "    </tr>\n",
       "  </tbody>\n",
       "</table>\n",
       "<p>5 rows × 1151 columns</p>\n",
       "</div>"
      ],
      "text/plain": [
       "        SK_ID_CURR  TARGET  CNT_CHILDREN  AMT_INCOME_TOTAL  AMT_CREDIT  \\\n",
       "170657      297783     0.0             0           74250.0    112500.0   \n",
       "251121      390572     0.0             2          225000.0    810000.0   \n",
       "96789       212363     0.0             0          225000.0   1546020.0   \n",
       "14042       116368     1.0             1          202500.0    444420.0   \n",
       "32597       137783     0.0             2          126000.0   1216201.5   \n",
       "\n",
       "        AMT_ANNUITY  AMT_GOODS_PRICE  REGION_POPULATION_RELATIVE  DAYS_BIRTH  \\\n",
       "170657       6282.0         112500.0                    0.018850      -15077   \n",
       "251121      40500.0         810000.0                    0.035792      -14311   \n",
       "96789       42642.0        1350000.0                    0.032561      -15236   \n",
       "14042       30195.0         337500.0                    0.018850      -17688   \n",
       "32597       35689.5        1062000.0                    0.018029      -14030   \n",
       "\n",
       "        DAYS_EMPLOYED  ...  POS_CASH_balance_SK_DPD_DEF_amax_sum_y  \\\n",
       "170657          -7915  ...                                     0.0   \n",
       "251121          -1858  ...                                     NaN   \n",
       "96789           -5751  ...                                     0.0   \n",
       "14042            -754  ...                                     0.0   \n",
       "32597            -368  ...                                     NaN   \n",
       "\n",
       "        POS_CASH_balance_SK_DPD_DEF_amax_amin_y  \\\n",
       "170657                                      0.0   \n",
       "251121                                      NaN   \n",
       "96789                                       0.0   \n",
       "14042                                       0.0   \n",
       "32597                                       NaN   \n",
       "\n",
       "        POS_CASH_balance_SK_DPD_DEF_amax_amax_y  \\\n",
       "170657                                      0.0   \n",
       "251121                                      NaN   \n",
       "96789                                       0.0   \n",
       "14042                                       0.0   \n",
       "32597                                       NaN   \n",
       "\n",
       "        POS_CASH_balance_COUNT_COUNT_NAME_CONTRACT_STATUS_Active_y  \\\n",
       "170657                                               95.0            \n",
       "251121                                                NaN            \n",
       "96789                                                40.0            \n",
       "14042                                                18.0            \n",
       "32597                                                 NaN            \n",
       "\n",
       "        POS_CASH_balance_COUNT_COUNT_NAME_CONTRACT_STATUS_Approved_y  \\\n",
       "170657                                                0.0              \n",
       "251121                                                NaN              \n",
       "96789                                                 0.0              \n",
       "14042                                                 0.0              \n",
       "32597                                                 NaN              \n",
       "\n",
       "        POS_CASH_balance_COUNT_COUNT_NAME_CONTRACT_STATUS_Completed_y  \\\n",
       "170657                                                0.0               \n",
       "251121                                                NaN               \n",
       "96789                                                 0.0               \n",
       "14042                                                 1.0               \n",
       "32597                                                 NaN               \n",
       "\n",
       "        POS_CASH_balance_COUNT_COUNT_NAME_CONTRACT_STATUS_Demand_y  \\\n",
       "170657                                                0.0            \n",
       "251121                                                NaN            \n",
       "96789                                                 0.0            \n",
       "14042                                                 0.0            \n",
       "32597                                                 NaN            \n",
       "\n",
       "        POS_CASH_balance_COUNT_COUNT_NAME_CONTRACT_STATUS_Refused  \\\n",
       "170657                                                0.0           \n",
       "251121                                                NaN           \n",
       "96789                                                 0.0           \n",
       "14042                                                 0.0           \n",
       "32597                                                 NaN           \n",
       "\n",
       "        POS_CASH_balance_COUNT_COUNT_NAME_CONTRACT_STATUS_Sent_proposal  \\\n",
       "170657                                                0.0                 \n",
       "251121                                                NaN                 \n",
       "96789                                                 0.0                 \n",
       "14042                                                 0.0                 \n",
       "32597                                                 NaN                 \n",
       "\n",
       "        POS_CASH_balance_COUNT_COUNT_NAME_CONTRACT_STATUS_Signed_y  \n",
       "170657                                                0.0           \n",
       "251121                                                NaN           \n",
       "96789                                                 0.0           \n",
       "14042                                                 0.0           \n",
       "32597                                                 NaN           \n",
       "\n",
       "[5 rows x 1151 columns]"
      ]
     },
     "execution_count": 14,
     "metadata": {},
     "output_type": "execute_result"
    }
   ],
   "source": [
    "train.head()"
   ]
  },
  {
   "cell_type": "code",
   "execution_count": 15,
   "metadata": {},
   "outputs": [
    {
     "data": {
      "text/plain": [
       "(154788, 1151)"
      ]
     },
     "execution_count": 15,
     "metadata": {},
     "output_type": "execute_result"
    }
   ],
   "source": [
    "sampled_positive_examples = train[train['TARGET'] == 1].sample(\n",
    "    int(number_of_positive_examples_to_sample),\n",
    "    replace=True,\n",
    "    random_state=RANDOM_SEED\n",
    ")\n",
    "sampled_positive_examples.shape"
   ]
  },
  {
   "cell_type": "code",
   "execution_count": 16,
   "metadata": {},
   "outputs": [],
   "source": [
    "train_after_sampling = train.append(sampled_positive_examples)"
   ]
  },
  {
   "cell_type": "code",
   "execution_count": 17,
   "metadata": {},
   "outputs": [
    {
     "data": {
      "text/plain": [
       "0.5"
      ]
     },
     "execution_count": 17,
     "metadata": {},
     "output_type": "execute_result"
    }
   ],
   "source": [
    "train_after_sampling['TARGET'].mean()"
   ]
  },
  {
   "cell_type": "code",
   "execution_count": 18,
   "metadata": {},
   "outputs": [],
   "source": [
    "X_train = train_after_sampling[FINAL_FEATURES]\n",
    "y_train = train_after_sampling['TARGET']"
   ]
  },
  {
   "cell_type": "markdown",
   "metadata": {},
   "source": [
    "### Fill nulls with 0 for aggregated features"
   ]
  },
  {
   "cell_type": "markdown",
   "metadata": {},
   "source": [
    "Same basic preprocessing steps as before."
   ]
  },
  {
   "cell_type": "code",
   "execution_count": 19,
   "metadata": {},
   "outputs": [
    {
     "name": "stderr",
     "output_type": "stream",
     "text": [
      "/Users/stevengeorge/opt/anaconda3/envs/kaggle-home-credit/lib/python3.7/site-packages/pandas/core/frame.py:4153: SettingWithCopyWarning: \n",
      "A value is trying to be set on a copy of a slice from a DataFrame\n",
      "\n",
      "See the caveats in the documentation: https://pandas.pydata.org/pandas-docs/stable/user_guide/indexing.html#returning-a-view-versus-a-copy\n",
      "  downcast=downcast,\n"
     ]
    }
   ],
   "source": [
    "X_train[aggregated_features].fillna(0, inplace=True)"
   ]
  },
  {
   "cell_type": "code",
   "execution_count": 20,
   "metadata": {},
   "outputs": [],
   "source": [
    "X_dev[aggregated_features].fillna(0, inplace=True)"
   ]
  },
  {
   "cell_type": "markdown",
   "metadata": {},
   "source": [
    "### Fill other nulls with mean"
   ]
  },
  {
   "cell_type": "code",
   "execution_count": 21,
   "metadata": {},
   "outputs": [
    {
     "data": {
      "text/plain": [
       "(339294, 47)"
      ]
     },
     "execution_count": 21,
     "metadata": {},
     "output_type": "execute_result"
    }
   ],
   "source": [
    "X_train[set(FINAL_FEATURES) - set(aggregated_features)].shape"
   ]
  },
  {
   "cell_type": "code",
   "execution_count": 22,
   "metadata": {},
   "outputs": [],
   "source": [
    "mean_imputer = SimpleImputer(strategy='mean')"
   ]
  },
  {
   "cell_type": "code",
   "execution_count": 23,
   "metadata": {},
   "outputs": [],
   "source": [
    "X_train = mean_imputer.fit_transform(X_train)"
   ]
  },
  {
   "cell_type": "code",
   "execution_count": 24,
   "metadata": {},
   "outputs": [],
   "source": [
    "X_train = pd.DataFrame(X_train, columns=FINAL_FEATURES)"
   ]
  },
  {
   "cell_type": "code",
   "execution_count": 25,
   "metadata": {},
   "outputs": [],
   "source": [
    "X_dev = mean_imputer.transform(X_dev)"
   ]
  },
  {
   "cell_type": "code",
   "execution_count": 26,
   "metadata": {},
   "outputs": [],
   "source": [
    "X_dev = pd.DataFrame(X_dev, columns=FINAL_FEATURES)"
   ]
  },
  {
   "cell_type": "markdown",
   "metadata": {},
   "source": [
    "### Scale features"
   ]
  },
  {
   "cell_type": "code",
   "execution_count": 27,
   "metadata": {},
   "outputs": [],
   "source": [
    "min_max_scalar = MinMaxScaler()"
   ]
  },
  {
   "cell_type": "code",
   "execution_count": 28,
   "metadata": {},
   "outputs": [],
   "source": [
    "X_train = min_max_scalar.fit_transform(X_train)"
   ]
  },
  {
   "cell_type": "code",
   "execution_count": 29,
   "metadata": {},
   "outputs": [],
   "source": [
    "X_dev = min_max_scalar.transform(X_dev)"
   ]
  },
  {
   "cell_type": "markdown",
   "metadata": {},
   "source": [
    "## Fit neural network using new balanced training data\n",
    "\n",
    "We use the optimal hyperparameters found in `11-Neural network revisited.ipynb`"
   ]
  },
  {
   "cell_type": "code",
   "execution_count": 30,
   "metadata": {},
   "outputs": [],
   "source": [
    "new_neural_network = SimpleNeuralNetwork(\n",
    "    number_of_inputs=212,\n",
    "    number_of_layers=3,\n",
    "    neurons_per_layer=57,\n",
    "    dropout_rate_per_layer=0.03752158001340439,\n",
    "    learning_rate=0.06627387542238576\n",
    ").create_model()"
   ]
  },
  {
   "cell_type": "code",
   "execution_count": 31,
   "metadata": {},
   "outputs": [],
   "source": [
    "# Compile model\n",
    "rocauc = keras.metrics.AUC(num_thresholds=200, curve='ROC', summation_method='interpolation', name='roc_auc')\n",
    "optimizer = keras.optimizers.Adam(learning_rate=0.06627387542238576)\n",
    "new_neural_network.compile(loss='binary_crossentropy', optimizer=optimizer, metrics=[rocauc])"
   ]
  },
  {
   "cell_type": "code",
   "execution_count": 32,
   "metadata": {},
   "outputs": [
    {
     "name": "stdout",
     "output_type": "stream",
     "text": [
      "Train on 339294 samples, validate on 61502 samples\n",
      "Epoch 1/22\n",
      "339294/339294 [==============================] - 13s 37us/step - loss: 0.5984 - roc_auc: 0.7438 - val_loss: 0.5206 - val_roc_auc: 0.7495\n",
      "Epoch 2/22\n",
      "339294/339294 [==============================] - 12s 35us/step - loss: 0.5872 - roc_auc: 0.7562 - val_loss: 0.6456 - val_roc_auc: 0.7603\n",
      "Epoch 3/22\n",
      "339294/339294 [==============================] - 12s 35us/step - loss: 0.5820 - roc_auc: 0.7614 - val_loss: 0.4278 - val_roc_auc: 0.7565\n",
      "Epoch 4/22\n",
      "339294/339294 [==============================] - 12s 35us/step - loss: 0.5771 - roc_auc: 0.7665 - val_loss: 0.6817 - val_roc_auc: 0.7593\n",
      "Epoch 5/22\n",
      "339294/339294 [==============================] - 12s 35us/step - loss: 0.5746 - roc_auc: 0.7685 - val_loss: 0.4867 - val_roc_auc: 0.7569\n",
      "Epoch 6/22\n",
      "339294/339294 [==============================] - 12s 35us/step - loss: 0.5720 - roc_auc: 0.7711 - val_loss: 0.5322 - val_roc_auc: 0.7550\n",
      "Epoch 7/22\n",
      "339294/339294 [==============================] - 12s 35us/step - loss: 0.5705 - roc_auc: 0.7723 - val_loss: 0.4899 - val_roc_auc: 0.7532\n",
      "Epoch 8/22\n",
      "339294/339294 [==============================] - 12s 35us/step - loss: 0.5676 - roc_auc: 0.7752 - val_loss: 0.5404 - val_roc_auc: 0.7563\n",
      "Epoch 9/22\n",
      "339294/339294 [==============================] - 12s 35us/step - loss: 0.5665 - roc_auc: 0.7762 - val_loss: 0.6039 - val_roc_auc: 0.7558\n",
      "Epoch 10/22\n",
      "339294/339294 [==============================] - 12s 35us/step - loss: 0.5658 - roc_auc: 0.7767 - val_loss: 0.7360 - val_roc_auc: 0.7541\n",
      "Epoch 11/22\n",
      "339294/339294 [==============================] - 12s 35us/step - loss: 0.5637 - roc_auc: 0.7785 - val_loss: 0.6690 - val_roc_auc: 0.7546\n",
      "Epoch 12/22\n",
      "339294/339294 [==============================] - 12s 35us/step - loss: 0.5635 - roc_auc: 0.7788 - val_loss: 0.5613 - val_roc_auc: 0.7511\n",
      "Epoch 13/22\n",
      "339294/339294 [==============================] - 12s 35us/step - loss: 0.5616 - roc_auc: 0.7806 - val_loss: 0.6059 - val_roc_auc: 0.7542\n",
      "Epoch 14/22\n",
      "339294/339294 [==============================] - 12s 35us/step - loss: 0.5616 - roc_auc: 0.7804 - val_loss: 0.5053 - val_roc_auc: 0.7554\n",
      "Epoch 15/22\n",
      "339294/339294 [==============================] - 12s 35us/step - loss: 0.5603 - roc_auc: 0.7816 - val_loss: 0.7496 - val_roc_auc: 0.7550\n",
      "Epoch 16/22\n",
      "339294/339294 [==============================] - 12s 35us/step - loss: 0.5598 - roc_auc: 0.7820 - val_loss: 0.5336 - val_roc_auc: 0.7529\n",
      "Epoch 17/22\n",
      "339294/339294 [==============================] - 12s 35us/step - loss: 0.5581 - roc_auc: 0.7832 - val_loss: 0.6438 - val_roc_auc: 0.7554\n",
      "Epoch 18/22\n",
      "339294/339294 [==============================] - 12s 35us/step - loss: 0.5572 - roc_auc: 0.7842 - val_loss: 0.5165 - val_roc_auc: 0.7505\n",
      "Epoch 19/22\n",
      "339294/339294 [==============================] - 12s 35us/step - loss: 0.5580 - roc_auc: 0.7836 - val_loss: 0.6268 - val_roc_auc: 0.7532\n",
      "Epoch 20/22\n",
      "339294/339294 [==============================] - 12s 35us/step - loss: 0.5568 - roc_auc: 0.7846 - val_loss: 0.5791 - val_roc_auc: 0.7515\n",
      "Epoch 21/22\n",
      "339294/339294 [==============================] - 12s 35us/step - loss: 0.5567 - roc_auc: 0.7848 - val_loss: 0.6210 - val_roc_auc: 0.7522\n",
      "Epoch 22/22\n",
      "339294/339294 [==============================] - 12s 35us/step - loss: 0.5565 - roc_auc: 0.7850 - val_loss: 0.4533 - val_roc_auc: 0.7520\n"
     ]
    },
    {
     "data": {
      "text/plain": [
       "<keras.callbacks.callbacks.History at 0x147d32790>"
      ]
     },
     "execution_count": 32,
     "metadata": {},
     "output_type": "execute_result"
    }
   ],
   "source": [
    "# Fit model\n",
    "new_neural_network.fit(\n",
    "    X_train,\n",
    "    y_train,\n",
    "    epochs=22,\n",
    "    batch_size=69,\n",
    "    validation_data=(X_dev, y_dev)\n",
    ")"
   ]
  },
  {
   "cell_type": "code",
   "execution_count": 33,
   "metadata": {},
   "outputs": [
    {
     "data": {
      "text/plain": [
       "<matplotlib.axes._subplots.AxesSubplot at 0x14b874bd0>"
      ]
     },
     "execution_count": 33,
     "metadata": {},
     "output_type": "execute_result"
    },
    {
     "data": {
      "image/png": "[encoded data removed]",
      "text/plain": [
       "<Figure size 432x288 with 1 Axes>"
      ]
     },
     "metadata": {
      "needs_background": "light"
     },
     "output_type": "display_data"
    }
   ],
   "source": [
    "sns.lineplot(data=pd.DataFrame(new_neural_network.history.history)[['val_roc_auc', 'roc_auc']])"
   ]
  },
  {
   "cell_type": "code",
   "execution_count": 34,
   "metadata": {},
   "outputs": [],
   "source": [
    "training_predictions = new_neural_network.predict(X_train)"
   ]
  },
  {
   "cell_type": "code",
   "execution_count": 35,
   "metadata": {},
   "outputs": [
    {
     "data": {
      "text/plain": [
       "<matplotlib.axes._subplots.AxesSubplot at 0x1489ce610>"
      ]
     },
     "execution_count": 35,
     "metadata": {},
     "output_type": "execute_result"
    },
    {
     "data": {
      "image/png": "[encoded data removed]",
      "text/plain": [
       "<Figure size 432x288 with 1 Axes>"
      ]
     },
     "metadata": {
      "needs_background": "light"
     },
     "output_type": "display_data"
    }
   ],
   "source": [
    "sns.distplot(training_predictions)"
   ]
  },
  {
   "cell_type": "markdown",
   "metadata": {},
   "source": [
    "These hyperparameters don't work for this balanced dataset and lead to high variance. We need to perform Bayes search again to find the optimal hyperparameters for this 'new' problem."
   ]
  },
  {
   "cell_type": "markdown",
   "metadata": {},
   "source": [
    "## Bayes search"
   ]
  },
  {
   "cell_type": "code",
   "execution_count": 36,
   "metadata": {},
   "outputs": [],
   "source": [
    "def objective(hyperparameters):\n",
    "    \n",
    "    # Hacky workaround for bug in package which saves integer hyperparameters as floats in the final dictionary. We explicitly cast as integers to avoid lightgbm errors.\n",
    "    for hyper in ['number_of_layers', 'neurons_per_layer', 'epochs', 'batch_size']:\n",
    "        try:\n",
    "            as_int = int(hyperparameters[hyper])\n",
    "            hyperparameters[hyper] = as_int\n",
    "        except:\n",
    "            continue\n",
    "    \n",
    "    # Machine learning model\n",
    "    simple_neural_network = SimpleNeuralNetwork(\n",
    "        number_of_inputs=len(FINAL_FEATURES),\n",
    "        epochs=20,\n",
    "        **hyperparameters\n",
    "    )\n",
    "    \n",
    "    # Training \n",
    "    simple_neural_network.compile_model()\n",
    "    simple_neural_network.fit(X_train, y_train, (X_dev, y_dev))\n",
    "    \n",
    "    # Making predictions and evaluating\n",
    "    predictions = simple_neural_network.predict_proba(X_dev)\n",
    "    roc_auc = roc_auc_score(y_dev, predictions)\n",
    "    \n",
    "    return -roc_auc  # Has to be a minimisation problem"
   ]
  },
  {
   "cell_type": "code",
   "execution_count": 37,
   "metadata": {},
   "outputs": [],
   "source": [
    "space = {\n",
    "    'number_of_layers': hp.uniformint('number_of_layers', 1, 5),\n",
    "    'neurons_per_layer': hp.uniformint('neurons_per_layer', 30, 250),\n",
    "    'dropout_rate_per_layer': hp.uniform('dropout_rate_per_layer', low=0, high=1),\n",
    "    'learning_rate': hp.loguniform('learning_rate', np.log(0.001), np.log(0.3)),\n",
    "#     'epochs': hp.uniformint('epochs', 10, 50),\n",
    "    'batch_size': hp.loguniform('batch_size', np.log(32), np.log(1024))\n",
    "}"
   ]
  },
  {
   "cell_type": "code",
   "execution_count": 38,
   "metadata": {},
   "outputs": [
    {
     "data": {
      "text/plain": [
       "{'batch_size': 118.66725585492232,\n",
       " 'dropout_rate_per_layer': 0.7596607738753606,\n",
       " 'learning_rate': 0.00626697542390014,\n",
       " 'neurons_per_layer': 132,\n",
       " 'number_of_layers': 3}"
      ]
     },
     "execution_count": 38,
     "metadata": {},
     "output_type": "execute_result"
    }
   ],
   "source": [
    "sample(space)"
   ]
  },
  {
   "cell_type": "code",
   "execution_count": 39,
   "metadata": {},
   "outputs": [
    {
     "name": "stdout",
     "output_type": "stream",
     "text": [
      "100%|██████████| 40/40 [2:02:44<00:00, 184.11s/trial, best loss: -0.75483210143845]    \n",
      "CPU times: user 4h 8min 49s, sys: 1h 11min, total: 5h 19min 49s\n",
      "Wall time: 2h 2min 44s\n"
     ]
    }
   ],
   "source": [
    "%%time\n",
    "bayes_trials = Trials()\n",
    "\n",
    "best = fmin(fn=objective, space=space, algo=tpe.suggest, max_evals=40, trials=bayes_trials)"
   ]
  },
  {
   "cell_type": "code",
   "execution_count": 40,
   "metadata": {},
   "outputs": [
    {
     "data": {
      "text/plain": [
       "{'batch_size': 364.3454784295952,\n",
       " 'dropout_rate_per_layer': 0.1507127516415241,\n",
       " 'learning_rate': 0.00854373359882833,\n",
       " 'neurons_per_layer': 31.0,\n",
       " 'number_of_layers': 5.0}"
      ]
     },
     "execution_count": 40,
     "metadata": {},
     "output_type": "execute_result"
    }
   ],
   "source": [
    "best"
   ]
  },
  {
   "cell_type": "markdown",
   "metadata": {},
   "source": [
    "## Neural network with optimal hyperparameters"
   ]
  },
  {
   "cell_type": "markdown",
   "metadata": {},
   "source": [
    "We use the scikit-learn wrapper `Keras Classifier` to utilise scikit-learn classes later (particularly `CalibratedClassifierCV` which expects our model to have certain methods)."
   ]
  },
  {
   "cell_type": "code",
   "execution_count": 31,
   "metadata": {},
   "outputs": [],
   "source": [
    "from keras.wrappers.scikit_learn import KerasClassifier"
   ]
  },
  {
   "cell_type": "code",
   "execution_count": 32,
   "metadata": {},
   "outputs": [],
   "source": [
    "def create_model():\n",
    "    model = SimpleNeuralNetwork(\n",
    "        number_of_inputs=212,\n",
    "        number_of_layers=int(best['number_of_layers']),\n",
    "        neurons_per_layer=int(best['neurons_per_layer']),\n",
    "        dropout_rate_per_layer=best['dropout_rate_per_layer'],\n",
    "        learning_rate=best['learning_rate']\n",
    "    ).create_model()\n",
    "\n",
    "    # Compile model\n",
    "    rocauc = keras.metrics.AUC(num_thresholds=200, curve='ROC', summation_method='interpolation', name='roc_auc')\n",
    "    optimizer = keras.optimizers.Adam(learning_rate=best['learning_rate'])\n",
    "    model.compile(loss='binary_crossentropy', optimizer=optimizer, metrics=[rocauc])\n",
    "    \n",
    "    return model"
   ]
  },
  {
   "cell_type": "code",
   "execution_count": 33,
   "metadata": {},
   "outputs": [],
   "source": [
    "# Try more epochs\n",
    "best_new_neural_network = KerasClassifier(build_fn=create_model, epochs=40, batch_size=int(best['batch_size']), validation_data=(X_dev, y_dev))"
   ]
  },
  {
   "cell_type": "code",
   "execution_count": 34,
   "metadata": {},
   "outputs": [
    {
     "name": "stdout",
     "output_type": "stream",
     "text": [
      "Train on 339294 samples, validate on 61502 samples\n",
      "Epoch 1/40\n",
      "339294/339294 [==============================] - 8s 24us/step - loss: 0.6233 - roc_auc: 0.7103 - val_loss: 0.5887 - val_roc_auc: 0.7485\n",
      "Epoch 2/40\n",
      "339294/339294 [==============================] - 7s 20us/step - loss: 0.6087 - roc_auc: 0.7301 - val_loss: 0.7321 - val_roc_auc: 0.7454\n",
      "Epoch 3/40\n",
      "339294/339294 [==============================] - 7s 20us/step - loss: 0.6044 - roc_auc: 0.7353 - val_loss: 0.6723 - val_roc_auc: 0.7490\n",
      "Epoch 4/40\n",
      "339294/339294 [==============================] - 7s 20us/step - loss: 0.6015 - roc_auc: 0.7389 - val_loss: 0.5890 - val_roc_auc: 0.7502\n",
      "Epoch 5/40\n",
      "339294/339294 [==============================] - 7s 20us/step - loss: 0.5995 - roc_auc: 0.7413 - val_loss: 0.6775 - val_roc_auc: 0.7470\n",
      "Epoch 6/40\n",
      "339294/339294 [==============================] - 7s 20us/step - loss: 0.5982 - roc_auc: 0.7426 - val_loss: 0.6744 - val_roc_auc: 0.7519\n",
      "Epoch 7/40\n",
      "339294/339294 [==============================] - 7s 20us/step - loss: 0.5974 - roc_auc: 0.7437 - val_loss: 0.6632 - val_roc_auc: 0.7533\n",
      "Epoch 8/40\n",
      "339294/339294 [==============================] - 7s 20us/step - loss: 0.5959 - roc_auc: 0.7456 - val_loss: 0.6201 - val_roc_auc: 0.7517\n",
      "Epoch 9/40\n",
      "339294/339294 [==============================] - 7s 21us/step - loss: 0.5949 - roc_auc: 0.7465 - val_loss: 0.5887 - val_roc_auc: 0.7556\n",
      "Epoch 10/40\n",
      "339294/339294 [==============================] - 7s 20us/step - loss: 0.5945 - roc_auc: 0.7468 - val_loss: 0.5758 - val_roc_auc: 0.7525\n",
      "Epoch 11/40\n",
      "339294/339294 [==============================] - 7s 21us/step - loss: 0.5931 - roc_auc: 0.7484 - val_loss: 0.6237 - val_roc_auc: 0.7501\n",
      "Epoch 12/40\n",
      "339294/339294 [==============================] - 7s 21us/step - loss: 0.5929 - roc_auc: 0.7489 - val_loss: 0.6744 - val_roc_auc: 0.7559\n",
      "Epoch 13/40\n",
      "339294/339294 [==============================] - 7s 21us/step - loss: 0.5927 - roc_auc: 0.7491 - val_loss: 0.5426 - val_roc_auc: 0.7496\n",
      "Epoch 14/40\n",
      "339294/339294 [==============================] - 7s 21us/step - loss: 0.5913 - roc_auc: 0.7506 - val_loss: 0.5651 - val_roc_auc: 0.7554\n",
      "Epoch 15/40\n",
      "339294/339294 [==============================] - 7s 21us/step - loss: 0.5913 - roc_auc: 0.7504 - val_loss: 0.5531 - val_roc_auc: 0.7551\n",
      "Epoch 16/40\n",
      "339294/339294 [==============================] - 7s 21us/step - loss: 0.5911 - roc_auc: 0.7508 - val_loss: 0.6142 - val_roc_auc: 0.7557\n",
      "Epoch 17/40\n",
      "339294/339294 [==============================] - 7s 20us/step - loss: 0.5905 - roc_auc: 0.7515 - val_loss: 0.6092 - val_roc_auc: 0.7504\n",
      "Epoch 18/40\n",
      "339294/339294 [==============================] - 7s 20us/step - loss: 0.5901 - roc_auc: 0.7519 - val_loss: 0.5820 - val_roc_auc: 0.7554\n",
      "Epoch 19/40\n",
      "339294/339294 [==============================] - 7s 20us/step - loss: 0.5892 - roc_auc: 0.7529 - val_loss: 0.6346 - val_roc_auc: 0.7516\n",
      "Epoch 20/40\n",
      "339294/339294 [==============================] - 7s 20us/step - loss: 0.5893 - roc_auc: 0.7527 - val_loss: 0.5679 - val_roc_auc: 0.7531\n",
      "Epoch 21/40\n",
      "339294/339294 [==============================] - 7s 20us/step - loss: 0.5888 - roc_auc: 0.7533 - val_loss: 0.6277 - val_roc_auc: 0.7528\n",
      "Epoch 22/40\n",
      "339294/339294 [==============================] - 7s 20us/step - loss: 0.5883 - roc_auc: 0.7538 - val_loss: 0.5517 - val_roc_auc: 0.7538\n",
      "Epoch 23/40\n",
      "339294/339294 [==============================] - 7s 20us/step - loss: 0.5875 - roc_auc: 0.7549 - val_loss: 0.6514 - val_roc_auc: 0.7558\n",
      "Epoch 24/40\n",
      "339294/339294 [==============================] - 7s 20us/step - loss: 0.5878 - roc_auc: 0.7543 - val_loss: 0.5886 - val_roc_auc: 0.7535\n",
      "Epoch 25/40\n",
      "339294/339294 [==============================] - 7s 20us/step - loss: 0.5875 - roc_auc: 0.7548 - val_loss: 0.6102 - val_roc_auc: 0.7537\n",
      "Epoch 26/40\n",
      "339294/339294 [==============================] - 7s 20us/step - loss: 0.5871 - roc_auc: 0.7551 - val_loss: 0.5921 - val_roc_auc: 0.7534\n",
      "Epoch 27/40\n",
      "339294/339294 [==============================] - 7s 20us/step - loss: 0.5873 - roc_auc: 0.7549 - val_loss: 0.6398 - val_roc_auc: 0.7542\n",
      "Epoch 28/40\n",
      "339294/339294 [==============================] - 7s 20us/step - loss: 0.5863 - roc_auc: 0.7561 - val_loss: 0.6347 - val_roc_auc: 0.7549\n",
      "Epoch 29/40\n",
      "339294/339294 [==============================] - 7s 20us/step - loss: 0.5869 - roc_auc: 0.7554 - val_loss: 0.6140 - val_roc_auc: 0.7551\n",
      "Epoch 30/40\n",
      "339294/339294 [==============================] - 7s 20us/step - loss: 0.5876 - roc_auc: 0.7547 - val_loss: 0.5877 - val_roc_auc: 0.7562\n",
      "Epoch 31/40\n",
      "339294/339294 [==============================] - 7s 20us/step - loss: 0.5859 - roc_auc: 0.7565 - val_loss: 0.5765 - val_roc_auc: 0.7541\n",
      "Epoch 32/40\n",
      "339294/339294 [==============================] - 7s 20us/step - loss: 0.5864 - roc_auc: 0.7558 - val_loss: 0.6130 - val_roc_auc: 0.7530\n",
      "Epoch 33/40\n",
      "339294/339294 [==============================] - 7s 20us/step - loss: 0.5865 - roc_auc: 0.7558 - val_loss: 0.5346 - val_roc_auc: 0.7532\n",
      "Epoch 34/40\n",
      "339294/339294 [==============================] - 7s 20us/step - loss: 0.5852 - roc_auc: 0.7572 - val_loss: 0.5929 - val_roc_auc: 0.7539\n",
      "Epoch 35/40\n",
      "339294/339294 [==============================] - 7s 20us/step - loss: 0.5858 - roc_auc: 0.7565 - val_loss: 0.5927 - val_roc_auc: 0.7544\n",
      "Epoch 36/40\n",
      "339294/339294 [==============================] - 7s 20us/step - loss: 0.5862 - roc_auc: 0.7561 - val_loss: 0.5507 - val_roc_auc: 0.7512\n",
      "Epoch 37/40\n",
      "339294/339294 [==============================] - 7s 20us/step - loss: 0.5854 - roc_auc: 0.7567 - val_loss: 0.5921 - val_roc_auc: 0.7531\n",
      "Epoch 38/40\n",
      "339294/339294 [==============================] - 7s 20us/step - loss: 0.5863 - roc_auc: 0.7560 - val_loss: 0.5297 - val_roc_auc: 0.7548\n",
      "Epoch 39/40\n",
      "339294/339294 [==============================] - 7s 20us/step - loss: 0.5853 - roc_auc: 0.7571 - val_loss: 0.5676 - val_roc_auc: 0.7554\n",
      "Epoch 40/40\n",
      "339294/339294 [==============================] - 7s 20us/step - loss: 0.5856 - roc_auc: 0.7567 - val_loss: 0.6109 - val_roc_auc: 0.7539\n"
     ]
    },
    {
     "data": {
      "text/plain": [
       "<keras.callbacks.callbacks.History at 0x7fb949406d50>"
      ]
     },
     "execution_count": 34,
     "metadata": {},
     "output_type": "execute_result"
    }
   ],
   "source": [
    "best_new_neural_network.fit(X_train, y_train)"
   ]
  },
  {
   "cell_type": "code",
   "execution_count": 35,
   "metadata": {},
   "outputs": [
    {
     "data": {
      "text/plain": [
       "<matplotlib.axes._subplots.AxesSubplot at 0x7fb94a882290>"
      ]
     },
     "execution_count": 35,
     "metadata": {},
     "output_type": "execute_result"
    },
    {
     "data": {
      "image/png": "[encoded data removed]",
      "text/plain": [
       "<Figure size 432x288 with 1 Axes>"
      ]
     },
     "metadata": {
      "needs_background": "light"
     },
     "output_type": "display_data"
    }
   ],
   "source": [
    "sns.lineplot(data=pd.DataFrame(best_new_neural_network.model.history.history)[['val_roc_auc', 'roc_auc']])"
   ]
  },
  {
   "cell_type": "code",
   "execution_count": 36,
   "metadata": {},
   "outputs": [
    {
     "data": {
      "text/plain": [
       "0.7539444476017092"
      ]
     },
     "execution_count": 36,
     "metadata": {},
     "output_type": "execute_result"
    }
   ],
   "source": [
    "roc_auc_score(y_dev, best_new_neural_network.predict_proba(X_dev)[:,1])"
   ]
  },
  {
   "cell_type": "code",
   "execution_count": 37,
   "metadata": {},
   "outputs": [
    {
     "data": {
      "text/plain": [
       "<matplotlib.axes._subplots.AxesSubplot at 0x7fb948657fd0>"
      ]
     },
     "execution_count": 37,
     "metadata": {},
     "output_type": "execute_result"
    },
    {
     "data": {
      "image/png": "[encoded data removed]",
      "text/plain": [
       "<Figure size 432x288 with 1 Axes>"
      ]
     },
     "metadata": {
      "needs_background": "light"
     },
     "output_type": "display_data"
    }
   ],
   "source": [
    "sns.distplot(best_new_neural_network.predict_proba(X_train)[:,1])"
   ]
  },
  {
   "cell_type": "code",
   "execution_count": 38,
   "metadata": {},
   "outputs": [
    {
     "data": {
      "text/plain": [
       "<matplotlib.axes._subplots.AxesSubplot at 0x7fb9486c6090>"
      ]
     },
     "execution_count": 38,
     "metadata": {},
     "output_type": "execute_result"
    },
    {
     "data": {
      "image/png": "[encoded data removed]",
      "text/plain": [
       "<Figure size 432x288 with 1 Axes>"
      ]
     },
     "metadata": {
      "needs_background": "light"
     },
     "output_type": "display_data"
    }
   ],
   "source": [
    "sns.distplot(best_new_neural_network.predict_proba(X_dev)[:,1])"
   ]
  },
  {
   "cell_type": "markdown",
   "metadata": {},
   "source": [
    "Looks like rebalancing the data has led to the desired spread in values ranging from 0 to 1 without any peculiar spikes."
   ]
  },
  {
   "cell_type": "markdown",
   "metadata": {},
   "source": [
    "## Probability calibration"
   ]
  },
  {
   "cell_type": "code",
   "execution_count": 39,
   "metadata": {},
   "outputs": [],
   "source": [
    "from sklearn.calibration import CalibratedClassifierCV, calibration_curve"
   ]
  },
  {
   "cell_type": "code",
   "execution_count": 40,
   "metadata": {},
   "outputs": [
    {
     "data": {
      "image/png": "[encoded data removed]",
      "text/plain": [
       "<Figure size 576x432 with 1 Axes>"
      ]
     },
     "metadata": {
      "needs_background": "light"
     },
     "output_type": "display_data"
    }
   ],
   "source": [
    "# Predict probabilities\n",
    "predictions_dev = best_new_neural_network.predict_proba(X_dev)[:,1]\n",
    "predictions_train = best_new_neural_network.predict_proba(X_train)[:,1]\n",
    "\n",
    "# Calibration curve\n",
    "fop_dev, mpv_dev = calibration_curve(y_dev, predictions_dev, n_bins=10, strategy='quantile')\n",
    "fop_train, mpv_train = calibration_curve(y_train, predictions_train, n_bins=10, strategy='quantile')\n",
    "\n",
    "# Plot perfectly calibrated\n",
    "plt.figure(figsize=(8,6))\n",
    "\n",
    "plt.title('Before calibration')\n",
    "\n",
    "plt.plot([0, 1], [0, 1], linestyle='--')\n",
    "# Plot model reliability\n",
    "plt.plot(mpv_dev, fop_dev, marker='.', label='dev')\n",
    "plt.plot(mpv_train, fop_train, marker='.', label='train')\n",
    "\n",
    "plt.xlabel('Mean predicted probability in each bin')\n",
    "plt.ylabel('True probability in each bin (fraction of positives)')\n",
    "\n",
    "plt.legend()\n",
    "\n",
    "plt.show()"
   ]
  },
  {
   "cell_type": "markdown",
   "metadata": {},
   "source": [
    "Model looks reasonably well calibrated to training data with signs that the model overpredicts initially (line under curve) then underpredicts (line above curve).\n",
    "\n",
    "Calibration on the dev set is very poor (massively overpredicting)."
   ]
  },
  {
   "cell_type": "code",
   "execution_count": 41,
   "metadata": {},
   "outputs": [],
   "source": [
    "calibrated_model = CalibratedClassifierCV(best_new_neural_network, method='sigmoid', cv='prefit')"
   ]
  },
  {
   "cell_type": "code",
   "execution_count": 42,
   "metadata": {},
   "outputs": [
    {
     "data": {
      "text/plain": [
       "CalibratedClassifierCV(base_estimator=<keras.wrappers.scikit_learn.KerasClassifier object at 0x7fbb45622950>,\n",
       "                       cv='prefit', method='sigmoid')"
      ]
     },
     "execution_count": 42,
     "metadata": {},
     "output_type": "execute_result"
    }
   ],
   "source": [
    "calibrated_model.fit(X_train, y_train)"
   ]
  },
  {
   "cell_type": "code",
   "execution_count": 43,
   "metadata": {},
   "outputs": [
    {
     "data": {
      "image/png": "[encoded data removed]",
      "text/plain": [
       "<Figure size 576x432 with 1 Axes>"
      ]
     },
     "metadata": {
      "needs_background": "light"
     },
     "output_type": "display_data"
    }
   ],
   "source": [
    "# Predict probabilities\n",
    "predictions_dev = calibrated_model.predict_proba(X_dev)[:,1]\n",
    "predictions_train = calibrated_model.predict_proba(X_train)[:,1]\n",
    "\n",
    "# Calibration curve\n",
    "fop_dev, mpv_dev = calibration_curve(y_dev, predictions_dev, n_bins=10, strategy='quantile')\n",
    "fop_train, mpv_train = calibration_curve(y_train, predictions_train, n_bins=10, strategy='quantile')\n",
    "\n",
    "# Plot perfectly calibrated\n",
    "plt.figure(figsize=(8,6))\n",
    "\n",
    "plt.title('After calibration')\n",
    "\n",
    "plt.plot([0, 1], [0, 1], linestyle='--')\n",
    "# Plot model reliability\n",
    "plt.plot(mpv_dev, fop_dev, marker='.', label='dev')\n",
    "plt.plot(mpv_train, fop_train, marker='.', label='train')\n",
    "\n",
    "plt.xlabel('Mean predicted probability in each bin')\n",
    "plt.ylabel('True probability in each bin (fraction of positives)')\n",
    "\n",
    "plt.legend()\n",
    "\n",
    "plt.show()"
   ]
  },
  {
   "cell_type": "code",
   "execution_count": 44,
   "metadata": {},
   "outputs": [
    {
     "data": {
      "text/plain": [
       "0.7868288700527704"
      ]
     },
     "execution_count": 44,
     "metadata": {},
     "output_type": "execute_result"
    }
   ],
   "source": [
    "roc_auc_score(y_train, best_new_neural_network.predict_proba(X_train)[:,1])"
   ]
  },
  {
   "cell_type": "code",
   "execution_count": 45,
   "metadata": {},
   "outputs": [
    {
     "data": {
      "text/plain": [
       "0.7868288709561722"
      ]
     },
     "execution_count": 45,
     "metadata": {},
     "output_type": "execute_result"
    }
   ],
   "source": [
    "roc_auc_score(y_train, calibrated_model.predict_proba(X_train)[:,1])"
   ]
  },
  {
   "cell_type": "markdown",
   "metadata": {},
   "source": [
    "ROC AUC is unchanged. This is because ROC AUC only depends on rank ordering, which is unchanged after sigmoid calibration."
   ]
  },
  {
   "cell_type": "markdown",
   "metadata": {},
   "source": [
    "__Conclusions:__\n",
    "\n",
    "- We rebalanced the data to 50/50 to stop the scores being skewed to lower ranges.\n",
    "- This led to a spread of scores but ROC AUC remained comparable to before.\n",
    "- The undesired consequence is that it forced our model to become overly cautious, predicting higher scores across the board.\n",
    "- This is evident in the calibration curve for the unbalanced dev set (well below the perfect line) and the dev log loss (a measure of how accurate the probability predictions are). The log loss was 0.6109 in the final epoch vs 0.2519 for the original neural network. \n",
    "- To have better calibration we can explore tuning the resampling proportion.\n",
    "- For the purposes of this competition, calibration is not that important because the target metric is ROC AUC.\n",
    "- However in a commercial context, calibrated scores may be more desirable."
   ]
  }
 ],
 "metadata": {
  "kernelspec": {
   "display_name": "Python 3",
   "language": "python",
   "name": "python3"
  },
  "language_info": {
   "codemirror_mode": {
    "name": "ipython",
    "version": 3
   },
   "file_extension": ".py",
   "mimetype": "text/x-python",
   "name": "python",
   "nbconvert_exporter": "python",
   "pygments_lexer": "ipython3",
   "version": "3.7.6"
  }
 },
 "nbformat": 4,
 "nbformat_minor": 4
}
