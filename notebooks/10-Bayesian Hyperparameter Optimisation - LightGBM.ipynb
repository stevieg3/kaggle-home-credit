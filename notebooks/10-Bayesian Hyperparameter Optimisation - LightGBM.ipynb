{
 "cells": [
  {
   "cell_type": "markdown",
   "metadata": {},
   "source": [
    "# Bayesian Hyperparameter Optimisation\n",
    "\n",
    "In this notebook we use Bayesian hyperparameter optimisiation to find the optimal hyperparameters for LightGBM. Following the guide here: https://towardsdatascience.com/a-conceptual-explanation-of-bayesian-model-based-hyperparameter-optimization-for-machine-learning-b8172278050f and the example notebook: https://github.com/WillKoehrsen/hyperparameter-optimization/blob/master/Bayesian%20Hyperparameter%20Optimization%20of%20Gradient%20Boosting%20Machine.ipynb"
   ]
  },
  {
   "cell_type": "markdown",
   "metadata": {},
   "source": [
    "## Set-up"
   ]
  },
  {
   "cell_type": "code",
   "execution_count": 1,
   "metadata": {},
   "outputs": [
    {
     "name": "stderr",
     "output_type": "stream",
     "text": [
      "Using TensorFlow backend.\n"
     ]
    }
   ],
   "source": [
    "import pickle\n",
    "import os\n",
    "\n",
    "import pandas as pd\n",
    "import numpy as np\n",
    "import shap\n",
    "from sklearn.metrics import roc_auc_score\n",
    "import matplotlib.pyplot as plt\n",
    "import seaborn as sns\n",
    "from keras.models import Sequential\n",
    "from keras.layers import Dense, BatchNormalization, Activation, Dropout\n",
    "import tensorflow as tf\n",
    "from keras import initializers\n",
    "import keras\n",
    "import lightgbm"
   ]
  },
  {
   "cell_type": "code",
   "execution_count": 2,
   "metadata": {},
   "outputs": [],
   "source": [
    "os.chdir('..')"
   ]
  },
  {
   "cell_type": "code",
   "execution_count": 3,
   "metadata": {},
   "outputs": [],
   "source": [
    "from src.data.utils import load_datasets, COLUMN_DESCRIPTION_DICT\n",
    "from src.models.utils import lgbm_feature_reduction"
   ]
  },
  {
   "cell_type": "code",
   "execution_count": 4,
   "metadata": {},
   "outputs": [],
   "source": [
    "pd.options.display.max_columns = 50"
   ]
  },
  {
   "cell_type": "markdown",
   "metadata": {},
   "source": [
    "## Load data"
   ]
  },
  {
   "cell_type": "markdown",
   "metadata": {},
   "source": [
    "Now includes all features"
   ]
  },
  {
   "cell_type": "code",
   "execution_count": 5,
   "metadata": {},
   "outputs": [],
   "source": [
    "RANDOM_SEED=42"
   ]
  },
  {
   "cell_type": "code",
   "execution_count": 6,
   "metadata": {},
   "outputs": [
    {
     "name": "stdout",
     "output_type": "stream",
     "text": [
      "Finished previous_application!\n",
      "Finished installments_payments!\n",
      "Finished pos_cash_balance!\n",
      "Finished credit_card_balance!\n",
      "CPU times: user 2min 37s, sys: 1min 27s, total: 4min 5s\n",
      "Wall time: 4min 18s\n"
     ]
    }
   ],
   "source": [
    "%%time\n",
    "train, dev, test, test_kaggle = load_datasets(random_seed=RANDOM_SEED)"
   ]
  },
  {
   "cell_type": "code",
   "execution_count": 7,
   "metadata": {},
   "outputs": [
    {
     "data": {
      "text/plain": [
       "(184506, 1151)"
      ]
     },
     "execution_count": 7,
     "metadata": {},
     "output_type": "execute_result"
    }
   ],
   "source": [
    "train.shape"
   ]
  },
  {
   "cell_type": "code",
   "execution_count": 8,
   "metadata": {},
   "outputs": [
    {
     "data": {
      "text/plain": [
       "212"
      ]
     },
     "execution_count": 8,
     "metadata": {},
     "output_type": "execute_result"
    }
   ],
   "source": [
    "# Features used in best LGBM:\n",
    "FINAL_FEATURES =  pickle.load(open('models/lgbm_all_features_reduced_random_FEATURES.pickle', 'rb'))\n",
    "len(FINAL_FEATURES)"
   ]
  },
  {
   "cell_type": "code",
   "execution_count": 9,
   "metadata": {},
   "outputs": [
    {
     "data": {
      "text/html": [
       "<div>\n",
       "<style scoped>\n",
       "    .dataframe tbody tr th:only-of-type {\n",
       "        vertical-align: middle;\n",
       "    }\n",
       "\n",
       "    .dataframe tbody tr th {\n",
       "        vertical-align: top;\n",
       "    }\n",
       "\n",
       "    .dataframe thead th {\n",
       "        text-align: right;\n",
       "    }\n",
       "</style>\n",
       "<table border=\"1\" class=\"dataframe\">\n",
       "  <thead>\n",
       "    <tr style=\"text-align: right;\">\n",
       "      <th></th>\n",
       "      <th>SK_ID_CURR</th>\n",
       "      <th>TARGET</th>\n",
       "      <th>CNT_CHILDREN</th>\n",
       "      <th>AMT_INCOME_TOTAL</th>\n",
       "      <th>AMT_CREDIT</th>\n",
       "      <th>AMT_ANNUITY</th>\n",
       "      <th>AMT_GOODS_PRICE</th>\n",
       "      <th>REGION_POPULATION_RELATIVE</th>\n",
       "      <th>DAYS_BIRTH</th>\n",
       "      <th>DAYS_EMPLOYED</th>\n",
       "      <th>DAYS_REGISTRATION</th>\n",
       "      <th>DAYS_ID_PUBLISH</th>\n",
       "      <th>OWN_CAR_AGE</th>\n",
       "      <th>FLAG_MOBIL</th>\n",
       "      <th>FLAG_EMP_PHONE</th>\n",
       "      <th>FLAG_WORK_PHONE</th>\n",
       "      <th>FLAG_CONT_MOBILE</th>\n",
       "      <th>FLAG_PHONE</th>\n",
       "      <th>FLAG_EMAIL</th>\n",
       "      <th>CNT_FAM_MEMBERS</th>\n",
       "      <th>REGION_RATING_CLIENT</th>\n",
       "      <th>REGION_RATING_CLIENT_W_CITY</th>\n",
       "      <th>HOUR_APPR_PROCESS_START</th>\n",
       "      <th>REG_REGION_NOT_LIVE_REGION</th>\n",
       "      <th>REG_REGION_NOT_WORK_REGION</th>\n",
       "      <th>...</th>\n",
       "      <th>POS_CASH_balance_SK_DPD_amax_amin_y</th>\n",
       "      <th>POS_CASH_balance_SK_DPD_amax_amax_y</th>\n",
       "      <th>POS_CASH_balance_SK_DPD_DEF_mean_mean_y</th>\n",
       "      <th>POS_CASH_balance_SK_DPD_DEF_mean_sum_y</th>\n",
       "      <th>POS_CASH_balance_SK_DPD_DEF_mean_amin_y</th>\n",
       "      <th>POS_CASH_balance_SK_DPD_DEF_mean_amax_y</th>\n",
       "      <th>POS_CASH_balance_SK_DPD_DEF_sum_mean_y</th>\n",
       "      <th>POS_CASH_balance_SK_DPD_DEF_sum_sum_y</th>\n",
       "      <th>POS_CASH_balance_SK_DPD_DEF_sum_amin_y</th>\n",
       "      <th>POS_CASH_balance_SK_DPD_DEF_sum_amax_y</th>\n",
       "      <th>POS_CASH_balance_SK_DPD_DEF_amin_mean_y</th>\n",
       "      <th>POS_CASH_balance_SK_DPD_DEF_amin_sum_y</th>\n",
       "      <th>POS_CASH_balance_SK_DPD_DEF_amin_amin_y</th>\n",
       "      <th>POS_CASH_balance_SK_DPD_DEF_amin_amax_y</th>\n",
       "      <th>POS_CASH_balance_SK_DPD_DEF_amax_mean_y</th>\n",
       "      <th>POS_CASH_balance_SK_DPD_DEF_amax_sum_y</th>\n",
       "      <th>POS_CASH_balance_SK_DPD_DEF_amax_amin_y</th>\n",
       "      <th>POS_CASH_balance_SK_DPD_DEF_amax_amax_y</th>\n",
       "      <th>POS_CASH_balance_COUNT_COUNT_NAME_CONTRACT_STATUS_Active_y</th>\n",
       "      <th>POS_CASH_balance_COUNT_COUNT_NAME_CONTRACT_STATUS_Approved_y</th>\n",
       "      <th>POS_CASH_balance_COUNT_COUNT_NAME_CONTRACT_STATUS_Completed_y</th>\n",
       "      <th>POS_CASH_balance_COUNT_COUNT_NAME_CONTRACT_STATUS_Demand_y</th>\n",
       "      <th>POS_CASH_balance_COUNT_COUNT_NAME_CONTRACT_STATUS_Refused</th>\n",
       "      <th>POS_CASH_balance_COUNT_COUNT_NAME_CONTRACT_STATUS_Sent_proposal</th>\n",
       "      <th>POS_CASH_balance_COUNT_COUNT_NAME_CONTRACT_STATUS_Signed_y</th>\n",
       "    </tr>\n",
       "  </thead>\n",
       "  <tbody>\n",
       "    <tr>\n",
       "      <th>170657</th>\n",
       "      <td>297783</td>\n",
       "      <td>0.0</td>\n",
       "      <td>0</td>\n",
       "      <td>74250.0</td>\n",
       "      <td>112500.0</td>\n",
       "      <td>6282.0</td>\n",
       "      <td>112500.0</td>\n",
       "      <td>0.018850</td>\n",
       "      <td>-15077</td>\n",
       "      <td>-7915</td>\n",
       "      <td>-2853.0</td>\n",
       "      <td>-8</td>\n",
       "      <td>NaN</td>\n",
       "      <td>1</td>\n",
       "      <td>1</td>\n",
       "      <td>1</td>\n",
       "      <td>1</td>\n",
       "      <td>0</td>\n",
       "      <td>0</td>\n",
       "      <td>2.0</td>\n",
       "      <td>2</td>\n",
       "      <td>2</td>\n",
       "      <td>10</td>\n",
       "      <td>0</td>\n",
       "      <td>0</td>\n",
       "      <td>...</td>\n",
       "      <td>0.0</td>\n",
       "      <td>0.0</td>\n",
       "      <td>0.0</td>\n",
       "      <td>0.0</td>\n",
       "      <td>0.0</td>\n",
       "      <td>0.0</td>\n",
       "      <td>0.0</td>\n",
       "      <td>0.0</td>\n",
       "      <td>0.0</td>\n",
       "      <td>0.0</td>\n",
       "      <td>0.0</td>\n",
       "      <td>0.0</td>\n",
       "      <td>0.0</td>\n",
       "      <td>0.0</td>\n",
       "      <td>0.0</td>\n",
       "      <td>0.0</td>\n",
       "      <td>0.0</td>\n",
       "      <td>0.0</td>\n",
       "      <td>95.0</td>\n",
       "      <td>0.0</td>\n",
       "      <td>0.0</td>\n",
       "      <td>0.0</td>\n",
       "      <td>0.0</td>\n",
       "      <td>0.0</td>\n",
       "      <td>0.0</td>\n",
       "    </tr>\n",
       "    <tr>\n",
       "      <th>251121</th>\n",
       "      <td>390572</td>\n",
       "      <td>0.0</td>\n",
       "      <td>2</td>\n",
       "      <td>225000.0</td>\n",
       "      <td>810000.0</td>\n",
       "      <td>40500.0</td>\n",
       "      <td>810000.0</td>\n",
       "      <td>0.035792</td>\n",
       "      <td>-14311</td>\n",
       "      <td>-1858</td>\n",
       "      <td>-2306.0</td>\n",
       "      <td>-5196</td>\n",
       "      <td>4.0</td>\n",
       "      <td>1</td>\n",
       "      <td>1</td>\n",
       "      <td>0</td>\n",
       "      <td>1</td>\n",
       "      <td>0</td>\n",
       "      <td>0</td>\n",
       "      <td>4.0</td>\n",
       "      <td>2</td>\n",
       "      <td>2</td>\n",
       "      <td>13</td>\n",
       "      <td>0</td>\n",
       "      <td>0</td>\n",
       "      <td>...</td>\n",
       "      <td>NaN</td>\n",
       "      <td>NaN</td>\n",
       "      <td>NaN</td>\n",
       "      <td>NaN</td>\n",
       "      <td>NaN</td>\n",
       "      <td>NaN</td>\n",
       "      <td>NaN</td>\n",
       "      <td>NaN</td>\n",
       "      <td>NaN</td>\n",
       "      <td>NaN</td>\n",
       "      <td>NaN</td>\n",
       "      <td>NaN</td>\n",
       "      <td>NaN</td>\n",
       "      <td>NaN</td>\n",
       "      <td>NaN</td>\n",
       "      <td>NaN</td>\n",
       "      <td>NaN</td>\n",
       "      <td>NaN</td>\n",
       "      <td>NaN</td>\n",
       "      <td>NaN</td>\n",
       "      <td>NaN</td>\n",
       "      <td>NaN</td>\n",
       "      <td>NaN</td>\n",
       "      <td>NaN</td>\n",
       "      <td>NaN</td>\n",
       "    </tr>\n",
       "    <tr>\n",
       "      <th>96789</th>\n",
       "      <td>212363</td>\n",
       "      <td>0.0</td>\n",
       "      <td>0</td>\n",
       "      <td>225000.0</td>\n",
       "      <td>1546020.0</td>\n",
       "      <td>42642.0</td>\n",
       "      <td>1350000.0</td>\n",
       "      <td>0.032561</td>\n",
       "      <td>-15236</td>\n",
       "      <td>-5751</td>\n",
       "      <td>-7483.0</td>\n",
       "      <td>-4492</td>\n",
       "      <td>8.0</td>\n",
       "      <td>1</td>\n",
       "      <td>1</td>\n",
       "      <td>0</td>\n",
       "      <td>1</td>\n",
       "      <td>1</td>\n",
       "      <td>0</td>\n",
       "      <td>2.0</td>\n",
       "      <td>1</td>\n",
       "      <td>1</td>\n",
       "      <td>16</td>\n",
       "      <td>0</td>\n",
       "      <td>0</td>\n",
       "      <td>...</td>\n",
       "      <td>0.0</td>\n",
       "      <td>0.0</td>\n",
       "      <td>0.0</td>\n",
       "      <td>0.0</td>\n",
       "      <td>0.0</td>\n",
       "      <td>0.0</td>\n",
       "      <td>0.0</td>\n",
       "      <td>0.0</td>\n",
       "      <td>0.0</td>\n",
       "      <td>0.0</td>\n",
       "      <td>0.0</td>\n",
       "      <td>0.0</td>\n",
       "      <td>0.0</td>\n",
       "      <td>0.0</td>\n",
       "      <td>0.0</td>\n",
       "      <td>0.0</td>\n",
       "      <td>0.0</td>\n",
       "      <td>0.0</td>\n",
       "      <td>40.0</td>\n",
       "      <td>0.0</td>\n",
       "      <td>0.0</td>\n",
       "      <td>0.0</td>\n",
       "      <td>0.0</td>\n",
       "      <td>0.0</td>\n",
       "      <td>0.0</td>\n",
       "    </tr>\n",
       "    <tr>\n",
       "      <th>14042</th>\n",
       "      <td>116368</td>\n",
       "      <td>1.0</td>\n",
       "      <td>1</td>\n",
       "      <td>202500.0</td>\n",
       "      <td>444420.0</td>\n",
       "      <td>30195.0</td>\n",
       "      <td>337500.0</td>\n",
       "      <td>0.018850</td>\n",
       "      <td>-17688</td>\n",
       "      <td>-754</td>\n",
       "      <td>-4307.0</td>\n",
       "      <td>-1243</td>\n",
       "      <td>22.0</td>\n",
       "      <td>1</td>\n",
       "      <td>1</td>\n",
       "      <td>0</td>\n",
       "      <td>1</td>\n",
       "      <td>0</td>\n",
       "      <td>0</td>\n",
       "      <td>3.0</td>\n",
       "      <td>2</td>\n",
       "      <td>2</td>\n",
       "      <td>14</td>\n",
       "      <td>0</td>\n",
       "      <td>0</td>\n",
       "      <td>...</td>\n",
       "      <td>0.0</td>\n",
       "      <td>0.0</td>\n",
       "      <td>0.0</td>\n",
       "      <td>0.0</td>\n",
       "      <td>0.0</td>\n",
       "      <td>0.0</td>\n",
       "      <td>0.0</td>\n",
       "      <td>0.0</td>\n",
       "      <td>0.0</td>\n",
       "      <td>0.0</td>\n",
       "      <td>0.0</td>\n",
       "      <td>0.0</td>\n",
       "      <td>0.0</td>\n",
       "      <td>0.0</td>\n",
       "      <td>0.0</td>\n",
       "      <td>0.0</td>\n",
       "      <td>0.0</td>\n",
       "      <td>0.0</td>\n",
       "      <td>18.0</td>\n",
       "      <td>0.0</td>\n",
       "      <td>1.0</td>\n",
       "      <td>0.0</td>\n",
       "      <td>0.0</td>\n",
       "      <td>0.0</td>\n",
       "      <td>0.0</td>\n",
       "    </tr>\n",
       "    <tr>\n",
       "      <th>32597</th>\n",
       "      <td>137783</td>\n",
       "      <td>0.0</td>\n",
       "      <td>2</td>\n",
       "      <td>126000.0</td>\n",
       "      <td>1216201.5</td>\n",
       "      <td>35689.5</td>\n",
       "      <td>1062000.0</td>\n",
       "      <td>0.018029</td>\n",
       "      <td>-14030</td>\n",
       "      <td>-368</td>\n",
       "      <td>-3400.0</td>\n",
       "      <td>-4447</td>\n",
       "      <td>NaN</td>\n",
       "      <td>1</td>\n",
       "      <td>1</td>\n",
       "      <td>1</td>\n",
       "      <td>1</td>\n",
       "      <td>0</td>\n",
       "      <td>0</td>\n",
       "      <td>4.0</td>\n",
       "      <td>3</td>\n",
       "      <td>3</td>\n",
       "      <td>6</td>\n",
       "      <td>0</td>\n",
       "      <td>0</td>\n",
       "      <td>...</td>\n",
       "      <td>NaN</td>\n",
       "      <td>NaN</td>\n",
       "      <td>NaN</td>\n",
       "      <td>NaN</td>\n",
       "      <td>NaN</td>\n",
       "      <td>NaN</td>\n",
       "      <td>NaN</td>\n",
       "      <td>NaN</td>\n",
       "      <td>NaN</td>\n",
       "      <td>NaN</td>\n",
       "      <td>NaN</td>\n",
       "      <td>NaN</td>\n",
       "      <td>NaN</td>\n",
       "      <td>NaN</td>\n",
       "      <td>NaN</td>\n",
       "      <td>NaN</td>\n",
       "      <td>NaN</td>\n",
       "      <td>NaN</td>\n",
       "      <td>NaN</td>\n",
       "      <td>NaN</td>\n",
       "      <td>NaN</td>\n",
       "      <td>NaN</td>\n",
       "      <td>NaN</td>\n",
       "      <td>NaN</td>\n",
       "      <td>NaN</td>\n",
       "    </tr>\n",
       "  </tbody>\n",
       "</table>\n",
       "<p>5 rows × 1151 columns</p>\n",
       "</div>"
      ],
      "text/plain": [
       "        SK_ID_CURR  TARGET  CNT_CHILDREN  AMT_INCOME_TOTAL  AMT_CREDIT  \\\n",
       "170657      297783     0.0             0           74250.0    112500.0   \n",
       "251121      390572     0.0             2          225000.0    810000.0   \n",
       "96789       212363     0.0             0          225000.0   1546020.0   \n",
       "14042       116368     1.0             1          202500.0    444420.0   \n",
       "32597       137783     0.0             2          126000.0   1216201.5   \n",
       "\n",
       "        AMT_ANNUITY  AMT_GOODS_PRICE  REGION_POPULATION_RELATIVE  DAYS_BIRTH  \\\n",
       "170657       6282.0         112500.0                    0.018850      -15077   \n",
       "251121      40500.0         810000.0                    0.035792      -14311   \n",
       "96789       42642.0        1350000.0                    0.032561      -15236   \n",
       "14042       30195.0         337500.0                    0.018850      -17688   \n",
       "32597       35689.5        1062000.0                    0.018029      -14030   \n",
       "\n",
       "        DAYS_EMPLOYED  DAYS_REGISTRATION  DAYS_ID_PUBLISH  OWN_CAR_AGE  \\\n",
       "170657          -7915            -2853.0               -8          NaN   \n",
       "251121          -1858            -2306.0            -5196          4.0   \n",
       "96789           -5751            -7483.0            -4492          8.0   \n",
       "14042            -754            -4307.0            -1243         22.0   \n",
       "32597            -368            -3400.0            -4447          NaN   \n",
       "\n",
       "        FLAG_MOBIL  FLAG_EMP_PHONE  FLAG_WORK_PHONE  FLAG_CONT_MOBILE  \\\n",
       "170657           1               1                1                 1   \n",
       "251121           1               1                0                 1   \n",
       "96789            1               1                0                 1   \n",
       "14042            1               1                0                 1   \n",
       "32597            1               1                1                 1   \n",
       "\n",
       "        FLAG_PHONE  FLAG_EMAIL  CNT_FAM_MEMBERS  REGION_RATING_CLIENT  \\\n",
       "170657           0           0              2.0                     2   \n",
       "251121           0           0              4.0                     2   \n",
       "96789            1           0              2.0                     1   \n",
       "14042            0           0              3.0                     2   \n",
       "32597            0           0              4.0                     3   \n",
       "\n",
       "        REGION_RATING_CLIENT_W_CITY  HOUR_APPR_PROCESS_START  \\\n",
       "170657                            2                       10   \n",
       "251121                            2                       13   \n",
       "96789                             1                       16   \n",
       "14042                             2                       14   \n",
       "32597                             3                        6   \n",
       "\n",
       "        REG_REGION_NOT_LIVE_REGION  REG_REGION_NOT_WORK_REGION  ...  \\\n",
       "170657                           0                           0  ...   \n",
       "251121                           0                           0  ...   \n",
       "96789                            0                           0  ...   \n",
       "14042                            0                           0  ...   \n",
       "32597                            0                           0  ...   \n",
       "\n",
       "        POS_CASH_balance_SK_DPD_amax_amin_y  \\\n",
       "170657                                  0.0   \n",
       "251121                                  NaN   \n",
       "96789                                   0.0   \n",
       "14042                                   0.0   \n",
       "32597                                   NaN   \n",
       "\n",
       "        POS_CASH_balance_SK_DPD_amax_amax_y  \\\n",
       "170657                                  0.0   \n",
       "251121                                  NaN   \n",
       "96789                                   0.0   \n",
       "14042                                   0.0   \n",
       "32597                                   NaN   \n",
       "\n",
       "        POS_CASH_balance_SK_DPD_DEF_mean_mean_y  \\\n",
       "170657                                      0.0   \n",
       "251121                                      NaN   \n",
       "96789                                       0.0   \n",
       "14042                                       0.0   \n",
       "32597                                       NaN   \n",
       "\n",
       "        POS_CASH_balance_SK_DPD_DEF_mean_sum_y  \\\n",
       "170657                                     0.0   \n",
       "251121                                     NaN   \n",
       "96789                                      0.0   \n",
       "14042                                      0.0   \n",
       "32597                                      NaN   \n",
       "\n",
       "        POS_CASH_balance_SK_DPD_DEF_mean_amin_y  \\\n",
       "170657                                      0.0   \n",
       "251121                                      NaN   \n",
       "96789                                       0.0   \n",
       "14042                                       0.0   \n",
       "32597                                       NaN   \n",
       "\n",
       "        POS_CASH_balance_SK_DPD_DEF_mean_amax_y  \\\n",
       "170657                                      0.0   \n",
       "251121                                      NaN   \n",
       "96789                                       0.0   \n",
       "14042                                       0.0   \n",
       "32597                                       NaN   \n",
       "\n",
       "        POS_CASH_balance_SK_DPD_DEF_sum_mean_y  \\\n",
       "170657                                     0.0   \n",
       "251121                                     NaN   \n",
       "96789                                      0.0   \n",
       "14042                                      0.0   \n",
       "32597                                      NaN   \n",
       "\n",
       "        POS_CASH_balance_SK_DPD_DEF_sum_sum_y  \\\n",
       "170657                                    0.0   \n",
       "251121                                    NaN   \n",
       "96789                                     0.0   \n",
       "14042                                     0.0   \n",
       "32597                                     NaN   \n",
       "\n",
       "        POS_CASH_balance_SK_DPD_DEF_sum_amin_y  \\\n",
       "170657                                     0.0   \n",
       "251121                                     NaN   \n",
       "96789                                      0.0   \n",
       "14042                                      0.0   \n",
       "32597                                      NaN   \n",
       "\n",
       "        POS_CASH_balance_SK_DPD_DEF_sum_amax_y  \\\n",
       "170657                                     0.0   \n",
       "251121                                     NaN   \n",
       "96789                                      0.0   \n",
       "14042                                      0.0   \n",
       "32597                                      NaN   \n",
       "\n",
       "        POS_CASH_balance_SK_DPD_DEF_amin_mean_y  \\\n",
       "170657                                      0.0   \n",
       "251121                                      NaN   \n",
       "96789                                       0.0   \n",
       "14042                                       0.0   \n",
       "32597                                       NaN   \n",
       "\n",
       "        POS_CASH_balance_SK_DPD_DEF_amin_sum_y  \\\n",
       "170657                                     0.0   \n",
       "251121                                     NaN   \n",
       "96789                                      0.0   \n",
       "14042                                      0.0   \n",
       "32597                                      NaN   \n",
       "\n",
       "        POS_CASH_balance_SK_DPD_DEF_amin_amin_y  \\\n",
       "170657                                      0.0   \n",
       "251121                                      NaN   \n",
       "96789                                       0.0   \n",
       "14042                                       0.0   \n",
       "32597                                       NaN   \n",
       "\n",
       "        POS_CASH_balance_SK_DPD_DEF_amin_amax_y  \\\n",
       "170657                                      0.0   \n",
       "251121                                      NaN   \n",
       "96789                                       0.0   \n",
       "14042                                       0.0   \n",
       "32597                                       NaN   \n",
       "\n",
       "        POS_CASH_balance_SK_DPD_DEF_amax_mean_y  \\\n",
       "170657                                      0.0   \n",
       "251121                                      NaN   \n",
       "96789                                       0.0   \n",
       "14042                                       0.0   \n",
       "32597                                       NaN   \n",
       "\n",
       "        POS_CASH_balance_SK_DPD_DEF_amax_sum_y  \\\n",
       "170657                                     0.0   \n",
       "251121                                     NaN   \n",
       "96789                                      0.0   \n",
       "14042                                      0.0   \n",
       "32597                                      NaN   \n",
       "\n",
       "        POS_CASH_balance_SK_DPD_DEF_amax_amin_y  \\\n",
       "170657                                      0.0   \n",
       "251121                                      NaN   \n",
       "96789                                       0.0   \n",
       "14042                                       0.0   \n",
       "32597                                       NaN   \n",
       "\n",
       "        POS_CASH_balance_SK_DPD_DEF_amax_amax_y  \\\n",
       "170657                                      0.0   \n",
       "251121                                      NaN   \n",
       "96789                                       0.0   \n",
       "14042                                       0.0   \n",
       "32597                                       NaN   \n",
       "\n",
       "        POS_CASH_balance_COUNT_COUNT_NAME_CONTRACT_STATUS_Active_y  \\\n",
       "170657                                               95.0            \n",
       "251121                                                NaN            \n",
       "96789                                                40.0            \n",
       "14042                                                18.0            \n",
       "32597                                                 NaN            \n",
       "\n",
       "        POS_CASH_balance_COUNT_COUNT_NAME_CONTRACT_STATUS_Approved_y  \\\n",
       "170657                                                0.0              \n",
       "251121                                                NaN              \n",
       "96789                                                 0.0              \n",
       "14042                                                 0.0              \n",
       "32597                                                 NaN              \n",
       "\n",
       "        POS_CASH_balance_COUNT_COUNT_NAME_CONTRACT_STATUS_Completed_y  \\\n",
       "170657                                                0.0               \n",
       "251121                                                NaN               \n",
       "96789                                                 0.0               \n",
       "14042                                                 1.0               \n",
       "32597                                                 NaN               \n",
       "\n",
       "        POS_CASH_balance_COUNT_COUNT_NAME_CONTRACT_STATUS_Demand_y  \\\n",
       "170657                                                0.0            \n",
       "251121                                                NaN            \n",
       "96789                                                 0.0            \n",
       "14042                                                 0.0            \n",
       "32597                                                 NaN            \n",
       "\n",
       "        POS_CASH_balance_COUNT_COUNT_NAME_CONTRACT_STATUS_Refused  \\\n",
       "170657                                                0.0           \n",
       "251121                                                NaN           \n",
       "96789                                                 0.0           \n",
       "14042                                                 0.0           \n",
       "32597                                                 NaN           \n",
       "\n",
       "        POS_CASH_balance_COUNT_COUNT_NAME_CONTRACT_STATUS_Sent_proposal  \\\n",
       "170657                                                0.0                 \n",
       "251121                                                NaN                 \n",
       "96789                                                 0.0                 \n",
       "14042                                                 0.0                 \n",
       "32597                                                 NaN                 \n",
       "\n",
       "        POS_CASH_balance_COUNT_COUNT_NAME_CONTRACT_STATUS_Signed_y  \n",
       "170657                                                0.0           \n",
       "251121                                                NaN           \n",
       "96789                                                 0.0           \n",
       "14042                                                 0.0           \n",
       "32597                                                 NaN           \n",
       "\n",
       "[5 rows x 1151 columns]"
      ]
     },
     "execution_count": 9,
     "metadata": {},
     "output_type": "execute_result"
    }
   ],
   "source": [
    "train.head()"
   ]
  },
  {
   "cell_type": "code",
   "execution_count": 10,
   "metadata": {},
   "outputs": [],
   "source": [
    "X_train = train[FINAL_FEATURES]\n",
    "y_train = train['TARGET']\n",
    "X_dev = dev[FINAL_FEATURES]\n",
    "y_dev = dev['TARGET']"
   ]
  },
  {
   "cell_type": "code",
   "execution_count": 11,
   "metadata": {},
   "outputs": [],
   "source": [
    "lgbm_model_random = pickle.load(open('models/lgbm_all_features_reduced_random.pickle', 'rb'))"
   ]
  },
  {
   "cell_type": "markdown",
   "metadata": {},
   "source": [
    "Best parameters after 80 iterations"
   ]
  },
  {
   "cell_type": "code",
   "execution_count": 12,
   "metadata": {},
   "outputs": [
    {
     "data": {
      "text/plain": [
       "{'subsample_for_bin': 200000,\n",
       " 'subsample': 0.5757575757575758,\n",
       " 'reg_lambda': 15.388177500383463,\n",
       " 'reg_alpha': 17.188391428171457,\n",
       " 'num_leaves': 26,\n",
       " 'min_child_samples': 175,\n",
       " 'learning_rate': 0.12312929581752732,\n",
       " 'colsample_bytree': 0.6444444444444444}"
      ]
     },
     "execution_count": 12,
     "metadata": {},
     "output_type": "execute_result"
    }
   ],
   "source": [
    "lgbm_model_random.best_params_"
   ]
  },
  {
   "cell_type": "code",
   "execution_count": 13,
   "metadata": {},
   "outputs": [
    {
     "data": {
      "text/plain": [
       "0.7809554450455519"
      ]
     },
     "execution_count": 13,
     "metadata": {},
     "output_type": "execute_result"
    }
   ],
   "source": [
    "lgbm_model_random.best_score_"
   ]
  },
  {
   "cell_type": "code",
   "execution_count": 14,
   "metadata": {},
   "outputs": [
    {
     "data": {
      "text/plain": [
       "0.7778717131161857"
      ]
     },
     "execution_count": 14,
     "metadata": {},
     "output_type": "execute_result"
    }
   ],
   "source": [
    "predictions = lgbm_model_random.predict_proba(X_dev)[:, 1]\n",
    "roc_auc_score(y_dev, predictions)"
   ]
  },
  {
   "cell_type": "markdown",
   "metadata": {},
   "source": [
    "### Bayesian Hyperparameter Optimisation"
   ]
  },
  {
   "cell_type": "code",
   "execution_count": 125,
   "metadata": {},
   "outputs": [],
   "source": [
    "# Function mapping hyperparameters to a real-valued score\n",
    "def objective(hyperparameters):\n",
    "    \n",
    "    # Hacky workaround for bug in package which saves integer hyperparameters as floats in the final dictionary. We explicitly cast as integers to avoid lightgbm errors.\n",
    "    for hyper in ['num_leaves', 'subsample_for_bin', 'min_child_samples']:\n",
    "        try:\n",
    "            as_int = int(hyperparameters[hyper])\n",
    "            hyperparameters[hyper] = as_int\n",
    "        except:\n",
    "            continue\n",
    "    \n",
    "    # Machine learning model\n",
    "    lgbm = lightgbm.LGBMClassifier(**hyperparameters)\n",
    "    \n",
    "    # Training \n",
    "    lgbm.fit(X_train, y_train)\n",
    "    \n",
    "    # Making predictions and evaluating\n",
    "    predictions = lgbm.predict_proba(X_dev)[:,1]\n",
    "    roc_auc = roc_auc_score(y_dev, predictions)\n",
    "    \n",
    "    return -roc_auc  # Has to be a minimisation problem"
   ]
  },
  {
   "cell_type": "code",
   "execution_count": 55,
   "metadata": {},
   "outputs": [],
   "source": [
    "from hyperopt import hp, fmin, rand, tpe, Trials"
   ]
  },
  {
   "cell_type": "markdown",
   "metadata": {},
   "source": [
    "__NOTE:__\n",
    "\n",
    "For sampling integer values from a range use `hp.uniformint('num_leaves', 20, 150)` rather than `hp.choice('num_leaves', list(np.arange(20, 150, dtype=int)))`. The latter causes an unusual error where the loss reported in the trials is different from the loss calculated by the objective function.\n",
    "\n",
    "Also this saves integer values as floats in the final parameter dictionary. Hence if this dictionary is passed to the objective function it throws `LightGBMError: Parameter num_leaves should be of type int, got \"20.0\"`. Therefore make sure objective function explicitly casts these parameter values as integers."
   ]
  },
  {
   "cell_type": "code",
   "execution_count": 131,
   "metadata": {},
   "outputs": [],
   "source": [
    "space = {\n",
    "    'num_leaves': hp.uniformint('num_leaves', 20, 150),\n",
    "    'learning_rate': hp.loguniform('learning_rate', np.log(0.005), np.log(0.5)),\n",
    "    'subsample_for_bin': hp.uniformint('subsample_for_bin', 20000, 300000),\n",
    "    'min_child_samples': hp.uniformint('min_child_samples', 20, 500),\n",
    "    'reg_alpha': hp.loguniform('reg_alpha', np.log(0.01), np.log(100)),\n",
    "    'reg_lambda': hp.loguniform('reg_lambda', np.log(0.01), np.log(100)),\n",
    "    'colsample_bytree': hp.quniform('colsample_bytree', low=0.6, high=1, q=1),\n",
    "    'subsample': hp.quniform('subsample', low=0.5, high=1, q=1)\n",
    "}"
   ]
  },
  {
   "cell_type": "code",
   "execution_count": 122,
   "metadata": {},
   "outputs": [],
   "source": [
    "from hyperopt.pyll.stochastic import sample"
   ]
  },
  {
   "cell_type": "code",
   "execution_count": 132,
   "metadata": {},
   "outputs": [
    {
     "data": {
      "text/plain": [
       "{'colsample_bytree': 1.0,\n",
       " 'learning_rate': 0.05975761234335702,\n",
       " 'min_child_samples': 147,\n",
       " 'num_leaves': 60,\n",
       " 'reg_alpha': 0.3896392142880288,\n",
       " 'reg_lambda': 2.829492190426517,\n",
       " 'subsample': 1.0,\n",
       " 'subsample_for_bin': 292047}"
      ]
     },
     "execution_count": 132,
     "metadata": {},
     "output_type": "execute_result"
    }
   ],
   "source": [
    "sample(space)"
   ]
  },
  {
   "cell_type": "markdown",
   "metadata": {},
   "source": [
    "According to this issue the first 20 trials are random: https://github.com/hyperopt/hyperopt/issues/642\n",
    "\n",
    "We therefore use 100 trials in total.\n",
    "\n",
    "For more details on `fmin` see: https://github.com/hyperopt/hyperopt/wiki/FMin"
   ]
  },
  {
   "cell_type": "code",
   "execution_count": 145,
   "metadata": {},
   "outputs": [
    {
     "name": "stdout",
     "output_type": "stream",
     "text": [
      "  0%|          | 0/100 [00:00<?, ?trial/s, best loss=?]"
     ]
    },
    {
     "name": "stderr",
     "output_type": "stream",
     "text": [
      "2020-05-24 01:03:48,673 - build_posterior_wrapper took 0.002679 seconds\n",
      "2020-05-24 01:03:48,674 - TPE using 0 trials\n"
     ]
    },
    {
     "name": "stdout",
     "output_type": "stream",
     "text": [
      "  1%|          | 1/100 [00:09<14:57,  9.07s/trial, best loss: -0.776353398357067]"
     ]
    },
    {
     "name": "stderr",
     "output_type": "stream",
     "text": [
      "2020-05-24 01:03:57,744 - build_posterior_wrapper took 0.003189 seconds\n",
      "2020-05-24 01:03:57,746 - TPE using 1/1 trials with best loss -0.776353\n"
     ]
    },
    {
     "name": "stdout",
     "output_type": "stream",
     "text": [
      "  2%|▏         | 2/100 [00:20<15:54,  9.74s/trial, best loss: -0.776353398357067]"
     ]
    },
    {
     "name": "stderr",
     "output_type": "stream",
     "text": [
      "2020-05-24 01:04:09,047 - build_posterior_wrapper took 0.003307 seconds\n",
      "2020-05-24 01:04:09,048 - TPE using 2/2 trials with best loss -0.776353\n"
     ]
    },
    {
     "name": "stdout",
     "output_type": "stream",
     "text": [
      "  3%|▎         | 3/100 [00:29<15:28,  9.58s/trial, best loss: -0.776353398357067]"
     ]
    },
    {
     "name": "stderr",
     "output_type": "stream",
     "text": [
      "2020-05-24 01:04:18,239 - build_posterior_wrapper took 0.003105 seconds\n",
      "2020-05-24 01:04:18,239 - TPE using 3/3 trials with best loss -0.776353\n"
     ]
    },
    {
     "name": "stdout",
     "output_type": "stream",
     "text": [
      "  4%|▍         | 4/100 [00:45<18:12, 11.38s/trial, best loss: -0.776353398357067]"
     ]
    },
    {
     "name": "stderr",
     "output_type": "stream",
     "text": [
      "2020-05-24 01:04:33,834 - build_posterior_wrapper took 0.003133 seconds\n",
      "2020-05-24 01:04:33,835 - TPE using 4/4 trials with best loss -0.776353\n"
     ]
    },
    {
     "name": "stdout",
     "output_type": "stream",
     "text": [
      "  5%|▌         | 5/100 [00:57<18:26, 11.64s/trial, best loss: -0.776353398357067]"
     ]
    },
    {
     "name": "stderr",
     "output_type": "stream",
     "text": [
      "2020-05-24 01:04:46,089 - build_posterior_wrapper took 0.003413 seconds\n",
      "2020-05-24 01:04:46,090 - TPE using 5/5 trials with best loss -0.776353\n"
     ]
    },
    {
     "name": "stdout",
     "output_type": "stream",
     "text": [
      "  6%|▌         | 6/100 [01:06<17:11, 10.97s/trial, best loss: -0.7771205131022259]"
     ]
    },
    {
     "name": "stderr",
     "output_type": "stream",
     "text": [
      "2020-05-24 01:04:55,490 - build_posterior_wrapper took 0.003409 seconds\n",
      "2020-05-24 01:04:55,491 - TPE using 6/6 trials with best loss -0.777121\n"
     ]
    },
    {
     "name": "stdout",
     "output_type": "stream",
     "text": [
      "  7%|▋         | 7/100 [01:17<17:04, 11.02s/trial, best loss: -0.7771205131022259]"
     ]
    },
    {
     "name": "stderr",
     "output_type": "stream",
     "text": [
      "2020-05-24 01:05:06,623 - build_posterior_wrapper took 0.003025 seconds\n",
      "2020-05-24 01:05:06,624 - TPE using 7/7 trials with best loss -0.777121\n"
     ]
    },
    {
     "name": "stdout",
     "output_type": "stream",
     "text": [
      "  8%|▊         | 8/100 [01:30<17:22, 11.33s/trial, best loss: -0.7771205131022259]"
     ]
    },
    {
     "name": "stderr",
     "output_type": "stream",
     "text": [
      "2020-05-24 01:05:18,694 - build_posterior_wrapper took 0.003119 seconds\n",
      "2020-05-24 01:05:18,695 - TPE using 8/8 trials with best loss -0.777121\n"
     ]
    },
    {
     "name": "stdout",
     "output_type": "stream",
     "text": [
      "  9%|▉         | 9/100 [01:42<17:49, 11.75s/trial, best loss: -0.7771205131022259]"
     ]
    },
    {
     "name": "stderr",
     "output_type": "stream",
     "text": [
      "2020-05-24 01:05:31,426 - build_posterior_wrapper took 0.003115 seconds\n",
      "2020-05-24 01:05:31,426 - TPE using 9/9 trials with best loss -0.777121\n"
     ]
    },
    {
     "name": "stdout",
     "output_type": "stream",
     "text": [
      " 10%|█         | 10/100 [01:57<18:50, 12.56s/trial, best loss: -0.7771205131022259]"
     ]
    },
    {
     "name": "stderr",
     "output_type": "stream",
     "text": [
      "2020-05-24 01:05:45,862 - build_posterior_wrapper took 0.002951 seconds\n",
      "2020-05-24 01:05:45,863 - TPE using 10/10 trials with best loss -0.777121\n"
     ]
    },
    {
     "name": "stdout",
     "output_type": "stream",
     "text": [
      " 11%|█         | 11/100 [02:06<17:03, 11.50s/trial, best loss: -0.7771205131022259]"
     ]
    },
    {
     "name": "stderr",
     "output_type": "stream",
     "text": [
      "2020-05-24 01:05:54,900 - build_posterior_wrapper took 0.003190 seconds\n",
      "2020-05-24 01:05:54,901 - TPE using 11/11 trials with best loss -0.777121\n"
     ]
    },
    {
     "name": "stdout",
     "output_type": "stream",
     "text": [
      " 12%|█▏        | 12/100 [02:14<15:26, 10.52s/trial, best loss: -0.7771205131022259]"
     ]
    },
    {
     "name": "stderr",
     "output_type": "stream",
     "text": [
      "2020-05-24 01:06:03,140 - build_posterior_wrapper took 0.003086 seconds\n",
      "2020-05-24 01:06:03,141 - TPE using 12/12 trials with best loss -0.777121\n"
     ]
    },
    {
     "name": "stdout",
     "output_type": "stream",
     "text": [
      " 13%|█▎        | 13/100 [02:25<15:19, 10.57s/trial, best loss: -0.7771205131022259]"
     ]
    },
    {
     "name": "stderr",
     "output_type": "stream",
     "text": [
      "2020-05-24 01:06:13,812 - build_posterior_wrapper took 0.003023 seconds\n",
      "2020-05-24 01:06:13,813 - TPE using 13/13 trials with best loss -0.777121\n"
     ]
    },
    {
     "name": "stdout",
     "output_type": "stream",
     "text": [
      " 14%|█▍        | 14/100 [02:36<15:41, 10.95s/trial, best loss: -0.7771205131022259]"
     ]
    },
    {
     "name": "stderr",
     "output_type": "stream",
     "text": [
      "2020-05-24 01:06:25,657 - build_posterior_wrapper took 0.003146 seconds\n",
      "2020-05-24 01:06:25,658 - TPE using 14/14 trials with best loss -0.777121\n"
     ]
    },
    {
     "name": "stdout",
     "output_type": "stream",
     "text": [
      " 15%|█▌        | 15/100 [02:45<14:24, 10.17s/trial, best loss: -0.7777077737410075]"
     ]
    },
    {
     "name": "stderr",
     "output_type": "stream",
     "text": [
      "2020-05-24 01:06:33,995 - build_posterior_wrapper took 0.003203 seconds\n",
      "2020-05-24 01:06:33,996 - TPE using 15/15 trials with best loss -0.777708\n"
     ]
    },
    {
     "name": "stdout",
     "output_type": "stream",
     "text": [
      " 16%|█▌        | 16/100 [03:01<16:52, 12.05s/trial, best loss: -0.7777077737410075]"
     ]
    },
    {
     "name": "stderr",
     "output_type": "stream",
     "text": [
      "2020-05-24 01:06:50,442 - build_posterior_wrapper took 0.003046 seconds\n",
      "2020-05-24 01:06:50,443 - TPE using 16/16 trials with best loss -0.777708\n"
     ]
    },
    {
     "name": "stdout",
     "output_type": "stream",
     "text": [
      " 17%|█▋        | 17/100 [03:14<16:50, 12.17s/trial, best loss: -0.7777077737410075]"
     ]
    },
    {
     "name": "stderr",
     "output_type": "stream",
     "text": [
      "2020-05-24 01:07:02,889 - build_posterior_wrapper took 0.003646 seconds\n",
      "2020-05-24 01:07:02,890 - TPE using 17/17 trials with best loss -0.777708\n"
     ]
    },
    {
     "name": "stdout",
     "output_type": "stream",
     "text": [
      " 18%|█▊        | 18/100 [03:21<14:46, 10.82s/trial, best loss: -0.7777077737410075]"
     ]
    },
    {
     "name": "stderr",
     "output_type": "stream",
     "text": [
      "2020-05-24 01:07:10,545 - build_posterior_wrapper took 0.003313 seconds\n",
      "2020-05-24 01:07:10,546 - TPE using 18/18 trials with best loss -0.777708\n"
     ]
    },
    {
     "name": "stdout",
     "output_type": "stream",
     "text": [
      " 19%|█▉        | 19/100 [03:31<14:13, 10.54s/trial, best loss: -0.7777077737410075]"
     ]
    },
    {
     "name": "stderr",
     "output_type": "stream",
     "text": [
      "2020-05-24 01:07:20,435 - build_posterior_wrapper took 0.003363 seconds\n",
      "2020-05-24 01:07:20,435 - TPE using 19/19 trials with best loss -0.777708\n"
     ]
    },
    {
     "name": "stdout",
     "output_type": "stream",
     "text": [
      " 20%|██        | 20/100 [03:39<13:07,  9.85s/trial, best loss: -0.7777077737410075]"
     ]
    },
    {
     "name": "stderr",
     "output_type": "stream",
     "text": [
      "2020-05-24 01:07:28,674 - build_posterior_wrapper took 0.003115 seconds\n",
      "2020-05-24 01:07:28,675 - TPE using 20/20 trials with best loss -0.777708\n"
     ]
    },
    {
     "name": "stdout",
     "output_type": "stream",
     "text": [
      " 21%|██        | 21/100 [03:49<12:40,  9.63s/trial, best loss: -0.7777077737410075]"
     ]
    },
    {
     "name": "stderr",
     "output_type": "stream",
     "text": [
      "2020-05-24 01:07:37,803 - build_posterior_wrapper took 0.003389 seconds\n",
      "2020-05-24 01:07:37,804 - TPE using 21/21 trials with best loss -0.777708\n"
     ]
    },
    {
     "name": "stdout",
     "output_type": "stream",
     "text": [
      " 22%|██▏       | 22/100 [04:04<14:43, 11.33s/trial, best loss: -0.7777077737410075]"
     ]
    },
    {
     "name": "stderr",
     "output_type": "stream",
     "text": [
      "2020-05-24 01:07:53,092 - build_posterior_wrapper took 0.003455 seconds\n",
      "2020-05-24 01:07:53,093 - TPE using 22/22 trials with best loss -0.777708\n"
     ]
    },
    {
     "name": "stdout",
     "output_type": "stream",
     "text": [
      " 23%|██▎       | 23/100 [04:13<13:48, 10.75s/trial, best loss: -0.7777077737410075]"
     ]
    },
    {
     "name": "stderr",
     "output_type": "stream",
     "text": [
      "2020-05-24 01:08:02,503 - build_posterior_wrapper took 0.003179 seconds\n",
      "2020-05-24 01:08:02,504 - TPE using 23/23 trials with best loss -0.777708\n"
     ]
    },
    {
     "name": "stdout",
     "output_type": "stream",
     "text": [
      " 24%|██▍       | 24/100 [04:25<13:52, 10.95s/trial, best loss: -0.7785313381435932]"
     ]
    },
    {
     "name": "stderr",
     "output_type": "stream",
     "text": [
      "2020-05-24 01:08:13,914 - build_posterior_wrapper took 0.003778 seconds\n",
      "2020-05-24 01:08:13,915 - TPE using 24/24 trials with best loss -0.778531\n"
     ]
    },
    {
     "name": "stdout",
     "output_type": "stream",
     "text": [
      " 25%|██▌       | 25/100 [04:36<13:48, 11.05s/trial, best loss: -0.7785313381435932]"
     ]
    },
    {
     "name": "stderr",
     "output_type": "stream",
     "text": [
      "2020-05-24 01:08:25,190 - build_posterior_wrapper took 0.003482 seconds\n",
      "2020-05-24 01:08:25,191 - TPE using 25/25 trials with best loss -0.778531\n"
     ]
    },
    {
     "name": "stdout",
     "output_type": "stream",
     "text": [
      " 26%|██▌       | 26/100 [04:45<12:59, 10.53s/trial, best loss: -0.7785313381435932]"
     ]
    },
    {
     "name": "stderr",
     "output_type": "stream",
     "text": [
      "2020-05-24 01:08:34,509 - build_posterior_wrapper took 0.003210 seconds\n",
      "2020-05-24 01:08:34,510 - TPE using 26/26 trials with best loss -0.778531\n"
     ]
    },
    {
     "name": "stdout",
     "output_type": "stream",
     "text": [
      " 27%|██▋       | 27/100 [05:00<14:12, 11.68s/trial, best loss: -0.7785313381435932]"
     ]
    },
    {
     "name": "stderr",
     "output_type": "stream",
     "text": [
      "2020-05-24 01:08:48,885 - build_posterior_wrapper took 0.003140 seconds\n",
      "2020-05-24 01:08:48,885 - TPE using 27/27 trials with best loss -0.778531\n"
     ]
    },
    {
     "name": "stdout",
     "output_type": "stream",
     "text": [
      " 28%|██▊       | 28/100 [05:09<13:06, 10.92s/trial, best loss: -0.7785313381435932]"
     ]
    },
    {
     "name": "stderr",
     "output_type": "stream",
     "text": [
      "2020-05-24 01:08:58,023 - build_posterior_wrapper took 0.003357 seconds\n",
      "2020-05-24 01:08:58,024 - TPE using 28/28 trials with best loss -0.778531\n"
     ]
    },
    {
     "name": "stdout",
     "output_type": "stream",
     "text": [
      " 29%|██▉       | 29/100 [05:19<12:43, 10.75s/trial, best loss: -0.7785313381435932]"
     ]
    },
    {
     "name": "stderr",
     "output_type": "stream",
     "text": [
      "2020-05-24 01:09:08,368 - build_posterior_wrapper took 0.003355 seconds\n",
      "2020-05-24 01:09:08,369 - TPE using 29/29 trials with best loss -0.778531\n"
     ]
    },
    {
     "name": "stdout",
     "output_type": "stream",
     "text": [
      " 30%|███       | 30/100 [05:27<11:20,  9.72s/trial, best loss: -0.7785313381435932]"
     ]
    },
    {
     "name": "stderr",
     "output_type": "stream",
     "text": [
      "2020-05-24 01:09:15,705 - build_posterior_wrapper took 0.003211 seconds\n",
      "2020-05-24 01:09:15,706 - TPE using 30/30 trials with best loss -0.778531\n"
     ]
    },
    {
     "name": "stdout",
     "output_type": "stream",
     "text": [
      " 31%|███       | 31/100 [05:40<12:29, 10.87s/trial, best loss: -0.7785313381435932]"
     ]
    },
    {
     "name": "stderr",
     "output_type": "stream",
     "text": [
      "2020-05-24 01:09:29,237 - build_posterior_wrapper took 0.003215 seconds\n",
      "2020-05-24 01:09:29,237 - TPE using 31/31 trials with best loss -0.778531\n"
     ]
    },
    {
     "name": "stdout",
     "output_type": "stream",
     "text": [
      " 32%|███▏      | 32/100 [05:54<13:24, 11.83s/trial, best loss: -0.7785313381435932]"
     ]
    },
    {
     "name": "stderr",
     "output_type": "stream",
     "text": [
      "2020-05-24 01:09:43,298 - build_posterior_wrapper took 0.003140 seconds\n",
      "2020-05-24 01:09:43,299 - TPE using 32/32 trials with best loss -0.778531\n"
     ]
    },
    {
     "name": "stdout",
     "output_type": "stream",
     "text": [
      " 33%|███▎      | 33/100 [06:07<13:26, 12.03s/trial, best loss: -0.7785313381435932]"
     ]
    },
    {
     "name": "stderr",
     "output_type": "stream",
     "text": [
      "2020-05-24 01:09:55,811 - build_posterior_wrapper took 0.003501 seconds\n",
      "2020-05-24 01:09:55,812 - TPE using 33/33 trials with best loss -0.778531\n"
     ]
    },
    {
     "name": "stdout",
     "output_type": "stream",
     "text": [
      " 34%|███▍      | 34/100 [06:15<11:58, 10.89s/trial, best loss: -0.7785313381435932]"
     ]
    },
    {
     "name": "stderr",
     "output_type": "stream",
     "text": [
      "2020-05-24 01:10:04,027 - build_posterior_wrapper took 0.003101 seconds\n",
      "2020-05-24 01:10:04,028 - TPE using 34/34 trials with best loss -0.778531\n"
     ]
    },
    {
     "name": "stdout",
     "output_type": "stream",
     "text": [
      " 35%|███▌      | 35/100 [06:24<11:17, 10.42s/trial, best loss: -0.7785313381435932]"
     ]
    },
    {
     "name": "stderr",
     "output_type": "stream",
     "text": [
      "2020-05-24 01:10:13,346 - build_posterior_wrapper took 0.003438 seconds\n",
      "2020-05-24 01:10:13,347 - TPE using 35/35 trials with best loss -0.778531\n"
     ]
    },
    {
     "name": "stdout",
     "output_type": "stream",
     "text": [
      " 36%|███▌      | 36/100 [06:31<10:05,  9.46s/trial, best loss: -0.7785313381435932]"
     ]
    },
    {
     "name": "stderr",
     "output_type": "stream",
     "text": [
      "2020-05-24 01:10:20,579 - build_posterior_wrapper took 0.003383 seconds\n",
      "2020-05-24 01:10:20,580 - TPE using 36/36 trials with best loss -0.778531\n"
     ]
    },
    {
     "name": "stdout",
     "output_type": "stream",
     "text": [
      " 37%|███▋      | 37/100 [06:44<10:57, 10.44s/trial, best loss: -0.7785313381435932]"
     ]
    },
    {
     "name": "stderr",
     "output_type": "stream",
     "text": [
      "2020-05-24 01:10:33,307 - build_posterior_wrapper took 0.003138 seconds\n",
      "2020-05-24 01:10:33,307 - TPE using 37/37 trials with best loss -0.778531\n"
     ]
    },
    {
     "name": "stdout",
     "output_type": "stream",
     "text": [
      " 38%|███▊      | 38/100 [06:55<10:48, 10.46s/trial, best loss: -0.7785313381435932]"
     ]
    },
    {
     "name": "stderr",
     "output_type": "stream",
     "text": [
      "2020-05-24 01:10:43,826 - build_posterior_wrapper took 0.003101 seconds\n",
      "2020-05-24 01:10:43,827 - TPE using 38/38 trials with best loss -0.778531\n"
     ]
    },
    {
     "name": "stdout",
     "output_type": "stream",
     "text": [
      " 39%|███▉      | 39/100 [07:05<10:30, 10.33s/trial, best loss: -0.7785313381435932]"
     ]
    },
    {
     "name": "stderr",
     "output_type": "stream",
     "text": [
      "2020-05-24 01:10:53,844 - build_posterior_wrapper took 0.003118 seconds\n",
      "2020-05-24 01:10:53,845 - TPE using 39/39 trials with best loss -0.778531\n"
     ]
    },
    {
     "name": "stdout",
     "output_type": "stream",
     "text": [
      " 40%|████      | 40/100 [07:12<09:29,  9.49s/trial, best loss: -0.7785313381435932]"
     ]
    },
    {
     "name": "stderr",
     "output_type": "stream",
     "text": [
      "2020-05-24 01:11:01,367 - build_posterior_wrapper took 0.003828 seconds\n",
      "2020-05-24 01:11:01,368 - TPE using 40/40 trials with best loss -0.778531\n"
     ]
    },
    {
     "name": "stdout",
     "output_type": "stream",
     "text": [
      " 41%|████      | 41/100 [07:29<11:21, 11.55s/trial, best loss: -0.7785313381435932]"
     ]
    },
    {
     "name": "stderr",
     "output_type": "stream",
     "text": [
      "2020-05-24 01:11:17,726 - build_posterior_wrapper took 0.004393 seconds\n",
      "2020-05-24 01:11:17,727 - TPE using 41/41 trials with best loss -0.778531\n"
     ]
    },
    {
     "name": "stdout",
     "output_type": "stream",
     "text": [
      " 42%|████▏     | 42/100 [07:37<10:23, 10.75s/trial, best loss: -0.7785313381435932]"
     ]
    },
    {
     "name": "stderr",
     "output_type": "stream",
     "text": [
      "2020-05-24 01:11:26,610 - build_posterior_wrapper took 0.003123 seconds\n",
      "2020-05-24 01:11:26,611 - TPE using 42/42 trials with best loss -0.778531\n"
     ]
    },
    {
     "name": "stdout",
     "output_type": "stream",
     "text": [
      " 43%|████▎     | 43/100 [07:48<10:03, 10.59s/trial, best loss: -0.7785313381435932]"
     ]
    },
    {
     "name": "stderr",
     "output_type": "stream",
     "text": [
      "2020-05-24 01:11:36,810 - build_posterior_wrapper took 0.003131 seconds\n",
      "2020-05-24 01:11:36,811 - TPE using 43/43 trials with best loss -0.778531\n"
     ]
    },
    {
     "name": "stdout",
     "output_type": "stream",
     "text": [
      " 44%|████▍     | 44/100 [07:58<09:51, 10.56s/trial, best loss: -0.7785313381435932]"
     ]
    },
    {
     "name": "stderr",
     "output_type": "stream",
     "text": [
      "2020-05-24 01:11:47,296 - build_posterior_wrapper took 0.003339 seconds\n",
      "2020-05-24 01:11:47,297 - TPE using 44/44 trials with best loss -0.778531\n"
     ]
    },
    {
     "name": "stdout",
     "output_type": "stream",
     "text": [
      " 45%|████▌     | 45/100 [08:09<09:45, 10.65s/trial, best loss: -0.7785313381435932]"
     ]
    },
    {
     "name": "stderr",
     "output_type": "stream",
     "text": [
      "2020-05-24 01:11:58,160 - build_posterior_wrapper took 0.003419 seconds\n",
      "2020-05-24 01:11:58,160 - TPE using 45/45 trials with best loss -0.778531\n"
     ]
    },
    {
     "name": "stdout",
     "output_type": "stream",
     "text": [
      " 46%|████▌     | 46/100 [08:21<10:04, 11.19s/trial, best loss: -0.7785313381435932]"
     ]
    },
    {
     "name": "stderr",
     "output_type": "stream",
     "text": [
      "2020-05-24 01:12:10,614 - build_posterior_wrapper took 0.003506 seconds\n",
      "2020-05-24 01:12:10,615 - TPE using 46/46 trials with best loss -0.778531\n"
     ]
    },
    {
     "name": "stdout",
     "output_type": "stream",
     "text": [
      " 47%|████▋     | 47/100 [08:33<09:54, 11.22s/trial, best loss: -0.7785313381435932]"
     ]
    },
    {
     "name": "stderr",
     "output_type": "stream",
     "text": [
      "2020-05-24 01:12:21,889 - build_posterior_wrapper took 0.003118 seconds\n",
      "2020-05-24 01:12:21,889 - TPE using 47/47 trials with best loss -0.778531\n"
     ]
    },
    {
     "name": "stdout",
     "output_type": "stream",
     "text": [
      " 48%|████▊     | 48/100 [08:42<09:11, 10.61s/trial, best loss: -0.7785313381435932]"
     ]
    },
    {
     "name": "stderr",
     "output_type": "stream",
     "text": [
      "2020-05-24 01:12:31,097 - build_posterior_wrapper took 0.003384 seconds\n",
      "2020-05-24 01:12:31,098 - TPE using 48/48 trials with best loss -0.778531\n"
     ]
    },
    {
     "name": "stdout",
     "output_type": "stream",
     "text": [
      " 49%|████▉     | 49/100 [08:54<09:30, 11.19s/trial, best loss: -0.7785313381435932]"
     ]
    },
    {
     "name": "stderr",
     "output_type": "stream",
     "text": [
      "2020-05-24 01:12:43,633 - build_posterior_wrapper took 0.003448 seconds\n",
      "2020-05-24 01:12:43,634 - TPE using 49/49 trials with best loss -0.778531\n"
     ]
    },
    {
     "name": "stdout",
     "output_type": "stream",
     "text": [
      " 50%|█████     | 50/100 [09:11<10:36, 12.73s/trial, best loss: -0.7785313381435932]"
     ]
    },
    {
     "name": "stderr",
     "output_type": "stream",
     "text": [
      "2020-05-24 01:12:59,957 - build_posterior_wrapper took 0.003023 seconds\n",
      "2020-05-24 01:12:59,958 - TPE using 50/50 trials with best loss -0.778531\n"
     ]
    },
    {
     "name": "stdout",
     "output_type": "stream",
     "text": [
      " 51%|█████     | 51/100 [09:26<11:01, 13.50s/trial, best loss: -0.7785313381435932]"
     ]
    },
    {
     "name": "stderr",
     "output_type": "stream",
     "text": [
      "2020-05-24 01:13:15,251 - build_posterior_wrapper took 0.003564 seconds\n",
      "2020-05-24 01:13:15,251 - TPE using 51/51 trials with best loss -0.778531\n"
     ]
    },
    {
     "name": "stdout",
     "output_type": "stream",
     "text": [
      " 52%|█████▏    | 52/100 [09:36<09:53, 12.36s/trial, best loss: -0.7785313381435932]"
     ]
    },
    {
     "name": "stderr",
     "output_type": "stream",
     "text": [
      "2020-05-24 01:13:24,946 - build_posterior_wrapper took 0.003156 seconds\n",
      "2020-05-24 01:13:24,947 - TPE using 52/52 trials with best loss -0.778531\n"
     ]
    },
    {
     "name": "stdout",
     "output_type": "stream",
     "text": [
      " 53%|█████▎    | 53/100 [09:52<10:31, 13.44s/trial, best loss: -0.7785313381435932]"
     ]
    },
    {
     "name": "stderr",
     "output_type": "stream",
     "text": [
      "2020-05-24 01:13:40,918 - build_posterior_wrapper took 0.003111 seconds\n",
      "2020-05-24 01:13:40,918 - TPE using 53/53 trials with best loss -0.778531\n"
     ]
    },
    {
     "name": "stdout",
     "output_type": "stream",
     "text": [
      " 54%|█████▍    | 54/100 [09:59<08:57, 11.68s/trial, best loss: -0.7785313381435932]"
     ]
    },
    {
     "name": "stderr",
     "output_type": "stream",
     "text": [
      "2020-05-24 01:13:48,500 - build_posterior_wrapper took 0.003525 seconds\n",
      "2020-05-24 01:13:48,501 - TPE using 54/54 trials with best loss -0.778531\n"
     ]
    },
    {
     "name": "stdout",
     "output_type": "stream",
     "text": [
      " 55%|█████▌    | 55/100 [10:09<08:17, 11.06s/trial, best loss: -0.7785313381435932]"
     ]
    },
    {
     "name": "stderr",
     "output_type": "stream",
     "text": [
      "2020-05-24 01:13:58,098 - build_posterior_wrapper took 0.003114 seconds\n",
      "2020-05-24 01:13:58,099 - TPE using 55/55 trials with best loss -0.778531\n"
     ]
    },
    {
     "name": "stdout",
     "output_type": "stream",
     "text": [
      " 56%|█████▌    | 56/100 [10:18<07:45, 10.58s/trial, best loss: -0.7785313381435932]"
     ]
    },
    {
     "name": "stderr",
     "output_type": "stream",
     "text": [
      "2020-05-24 01:14:07,558 - build_posterior_wrapper took 0.003741 seconds\n",
      "2020-05-24 01:14:07,559 - TPE using 56/56 trials with best loss -0.778531\n"
     ]
    },
    {
     "name": "stdout",
     "output_type": "stream",
     "text": [
      " 57%|█████▋    | 57/100 [10:25<06:47,  9.47s/trial, best loss: -0.7785313381435932]"
     ]
    },
    {
     "name": "stderr",
     "output_type": "stream",
     "text": [
      "2020-05-24 01:14:14,441 - build_posterior_wrapper took 0.003518 seconds\n",
      "2020-05-24 01:14:14,442 - TPE using 57/57 trials with best loss -0.778531\n"
     ]
    },
    {
     "name": "stdout",
     "output_type": "stream",
     "text": [
      " 58%|█████▊    | 58/100 [10:37<07:10, 10.25s/trial, best loss: -0.7785313381435932]"
     ]
    },
    {
     "name": "stderr",
     "output_type": "stream",
     "text": [
      "2020-05-24 01:14:26,517 - build_posterior_wrapper took 0.003159 seconds\n",
      "2020-05-24 01:14:26,518 - TPE using 58/58 trials with best loss -0.778531\n"
     ]
    },
    {
     "name": "stdout",
     "output_type": "stream",
     "text": [
      " 59%|█████▉    | 59/100 [10:47<06:57, 10.18s/trial, best loss: -0.7785313381435932]"
     ]
    },
    {
     "name": "stderr",
     "output_type": "stream",
     "text": [
      "2020-05-24 01:14:36,533 - build_posterior_wrapper took 0.003121 seconds\n",
      "2020-05-24 01:14:36,534 - TPE using 59/59 trials with best loss -0.778531\n"
     ]
    },
    {
     "name": "stdout",
     "output_type": "stream",
     "text": [
      " 60%|██████    | 60/100 [10:55<06:20,  9.51s/trial, best loss: -0.7785313381435932]"
     ]
    },
    {
     "name": "stderr",
     "output_type": "stream",
     "text": [
      "2020-05-24 01:14:44,493 - build_posterior_wrapper took 0.003668 seconds\n",
      "2020-05-24 01:14:44,494 - TPE using 60/60 trials with best loss -0.778531\n"
     ]
    },
    {
     "name": "stdout",
     "output_type": "stream",
     "text": [
      " 61%|██████    | 61/100 [11:07<06:40, 10.27s/trial, best loss: -0.7785313381435932]"
     ]
    },
    {
     "name": "stderr",
     "output_type": "stream",
     "text": [
      "2020-05-24 01:14:56,517 - build_posterior_wrapper took 0.003368 seconds\n",
      "2020-05-24 01:14:56,518 - TPE using 61/61 trials with best loss -0.778531\n"
     ]
    },
    {
     "name": "stdout",
     "output_type": "stream",
     "text": [
      " 62%|██████▏   | 62/100 [11:20<07:01, 11.10s/trial, best loss: -0.7785313381435932]"
     ]
    },
    {
     "name": "stderr",
     "output_type": "stream",
     "text": [
      "2020-05-24 01:15:09,556 - build_posterior_wrapper took 0.003542 seconds\n",
      "2020-05-24 01:15:09,557 - TPE using 62/62 trials with best loss -0.778531\n"
     ]
    },
    {
     "name": "stdout",
     "output_type": "stream",
     "text": [
      " 63%|██████▎   | 63/100 [11:29<06:24, 10.40s/trial, best loss: -0.7785313381435932]"
     ]
    },
    {
     "name": "stderr",
     "output_type": "stream",
     "text": [
      "2020-05-24 01:15:18,323 - build_posterior_wrapper took 0.003255 seconds\n",
      "2020-05-24 01:15:18,324 - TPE using 63/63 trials with best loss -0.778531\n"
     ]
    },
    {
     "name": "stdout",
     "output_type": "stream",
     "text": [
      " 64%|██████▍   | 64/100 [11:39<06:10, 10.30s/trial, best loss: -0.7785313381435932]"
     ]
    },
    {
     "name": "stderr",
     "output_type": "stream",
     "text": [
      "2020-05-24 01:15:28,399 - build_posterior_wrapper took 0.003343 seconds\n",
      "2020-05-24 01:15:28,399 - TPE using 64/64 trials with best loss -0.778531\n"
     ]
    },
    {
     "name": "stdout",
     "output_type": "stream",
     "text": [
      " 65%|██████▌   | 65/100 [11:48<05:40,  9.73s/trial, best loss: -0.7785313381435932]"
     ]
    },
    {
     "name": "stderr",
     "output_type": "stream",
     "text": [
      "2020-05-24 01:15:36,792 - build_posterior_wrapper took 0.003171 seconds\n",
      "2020-05-24 01:15:36,793 - TPE using 65/65 trials with best loss -0.778531\n"
     ]
    },
    {
     "name": "stdout",
     "output_type": "stream",
     "text": [
      " 66%|██████▌   | 66/100 [11:57<05:27,  9.64s/trial, best loss: -0.7785313381435932]"
     ]
    },
    {
     "name": "stderr",
     "output_type": "stream",
     "text": [
      "2020-05-24 01:15:46,239 - build_posterior_wrapper took 0.003646 seconds\n",
      "2020-05-24 01:15:46,239 - TPE using 66/66 trials with best loss -0.778531\n"
     ]
    },
    {
     "name": "stdout",
     "output_type": "stream",
     "text": [
      " 67%|██████▋   | 67/100 [12:06<05:14,  9.54s/trial, best loss: -0.7785313381435932]"
     ]
    },
    {
     "name": "stderr",
     "output_type": "stream",
     "text": [
      "2020-05-24 01:15:55,543 - build_posterior_wrapper took 0.003018 seconds\n",
      "2020-05-24 01:15:55,543 - TPE using 67/67 trials with best loss -0.778531\n"
     ]
    },
    {
     "name": "stdout",
     "output_type": "stream",
     "text": [
      " 68%|██████▊   | 68/100 [12:17<05:15,  9.85s/trial, best loss: -0.7785313381435932]"
     ]
    },
    {
     "name": "stderr",
     "output_type": "stream",
     "text": [
      "2020-05-24 01:16:06,124 - build_posterior_wrapper took 0.003036 seconds\n",
      "2020-05-24 01:16:06,125 - TPE using 68/68 trials with best loss -0.778531\n"
     ]
    },
    {
     "name": "stdout",
     "output_type": "stream",
     "text": [
      " 69%|██████▉   | 69/100 [12:26<05:00,  9.70s/trial, best loss: -0.7785313381435932]"
     ]
    },
    {
     "name": "stderr",
     "output_type": "stream",
     "text": [
      "2020-05-24 01:16:15,451 - build_posterior_wrapper took 0.003251 seconds\n",
      "2020-05-24 01:16:15,451 - TPE using 69/69 trials with best loss -0.778531\n"
     ]
    },
    {
     "name": "stdout",
     "output_type": "stream",
     "text": [
      " 70%|███████   | 70/100 [12:37<04:56,  9.87s/trial, best loss: -0.7785313381435932]"
     ]
    },
    {
     "name": "stderr",
     "output_type": "stream",
     "text": [
      "2020-05-24 01:16:25,720 - build_posterior_wrapper took 0.003157 seconds\n",
      "2020-05-24 01:16:25,721 - TPE using 70/70 trials with best loss -0.778531\n"
     ]
    },
    {
     "name": "stdout",
     "output_type": "stream",
     "text": [
      " 71%|███████   | 71/100 [12:47<04:53, 10.13s/trial, best loss: -0.7785313381435932]"
     ]
    },
    {
     "name": "stderr",
     "output_type": "stream",
     "text": [
      "2020-05-24 01:16:36,452 - build_posterior_wrapper took 0.003027 seconds\n",
      "2020-05-24 01:16:36,453 - TPE using 71/71 trials with best loss -0.778531\n"
     ]
    },
    {
     "name": "stdout",
     "output_type": "stream",
     "text": [
      " 72%|███████▏  | 72/100 [12:58<04:50, 10.36s/trial, best loss: -0.7785313381435932]"
     ]
    },
    {
     "name": "stderr",
     "output_type": "stream",
     "text": [
      "2020-05-24 01:16:47,358 - build_posterior_wrapper took 0.003077 seconds\n",
      "2020-05-24 01:16:47,359 - TPE using 72/72 trials with best loss -0.778531\n"
     ]
    },
    {
     "name": "stdout",
     "output_type": "stream",
     "text": [
      " 73%|███████▎  | 73/100 [13:10<04:49, 10.71s/trial, best loss: -0.7785313381435932]"
     ]
    },
    {
     "name": "stderr",
     "output_type": "stream",
     "text": [
      "2020-05-24 01:16:58,882 - build_posterior_wrapper took 0.003054 seconds\n",
      "2020-05-24 01:16:58,883 - TPE using 73/73 trials with best loss -0.778531\n"
     ]
    },
    {
     "name": "stdout",
     "output_type": "stream",
     "text": [
      " 74%|███████▍  | 74/100 [13:18<04:19,  9.97s/trial, best loss: -0.7785313381435932]"
     ]
    },
    {
     "name": "stderr",
     "output_type": "stream",
     "text": [
      "2020-05-24 01:17:07,139 - build_posterior_wrapper took 0.003097 seconds\n",
      "2020-05-24 01:17:07,140 - TPE using 74/74 trials with best loss -0.778531\n"
     ]
    },
    {
     "name": "stdout",
     "output_type": "stream",
     "text": [
      " 75%|███████▌  | 75/100 [13:27<04:00,  9.63s/trial, best loss: -0.7785313381435932]"
     ]
    },
    {
     "name": "stderr",
     "output_type": "stream",
     "text": [
      "2020-05-24 01:17:15,964 - build_posterior_wrapper took 0.003121 seconds\n",
      "2020-05-24 01:17:15,965 - TPE using 75/75 trials with best loss -0.778531\n"
     ]
    },
    {
     "name": "stdout",
     "output_type": "stream",
     "text": [
      " 76%|███████▌  | 76/100 [13:36<03:46,  9.45s/trial, best loss: -0.7785313381435932]"
     ]
    },
    {
     "name": "stderr",
     "output_type": "stream",
     "text": [
      "2020-05-24 01:17:24,983 - build_posterior_wrapper took 0.003346 seconds\n",
      "2020-05-24 01:17:24,984 - TPE using 76/76 trials with best loss -0.778531\n"
     ]
    },
    {
     "name": "stdout",
     "output_type": "stream",
     "text": [
      " 77%|███████▋  | 77/100 [13:48<03:55, 10.23s/trial, best loss: -0.7785313381435932]"
     ]
    },
    {
     "name": "stderr",
     "output_type": "stream",
     "text": [
      "2020-05-24 01:17:37,057 - build_posterior_wrapper took 0.003028 seconds\n",
      "2020-05-24 01:17:37,058 - TPE using 77/77 trials with best loss -0.778531\n"
     ]
    },
    {
     "name": "stdout",
     "output_type": "stream",
     "text": [
      " 78%|███████▊  | 78/100 [13:55<03:23,  9.27s/trial, best loss: -0.7785313381435932]"
     ]
    },
    {
     "name": "stderr",
     "output_type": "stream",
     "text": [
      "2020-05-24 01:17:44,066 - build_posterior_wrapper took 0.003666 seconds\n",
      "2020-05-24 01:17:44,067 - TPE using 78/78 trials with best loss -0.778531\n"
     ]
    },
    {
     "name": "stdout",
     "output_type": "stream",
     "text": [
      " 79%|███████▉  | 79/100 [14:05<03:19,  9.48s/trial, best loss: -0.7785313381435932]"
     ]
    },
    {
     "name": "stderr",
     "output_type": "stream",
     "text": [
      "2020-05-24 01:17:54,060 - build_posterior_wrapper took 0.003416 seconds\n",
      "2020-05-24 01:17:54,061 - TPE using 79/79 trials with best loss -0.778531\n"
     ]
    },
    {
     "name": "stdout",
     "output_type": "stream",
     "text": [
      " 80%|████████  | 80/100 [14:17<03:23, 10.17s/trial, best loss: -0.7785313381435932]"
     ]
    },
    {
     "name": "stderr",
     "output_type": "stream",
     "text": [
      "2020-05-24 01:18:05,829 - build_posterior_wrapper took 0.003109 seconds\n",
      "2020-05-24 01:18:05,830 - TPE using 80/80 trials with best loss -0.778531\n"
     ]
    },
    {
     "name": "stdout",
     "output_type": "stream",
     "text": [
      " 81%|████████  | 81/100 [14:26<03:07,  9.84s/trial, best loss: -0.7785313381435932]"
     ]
    },
    {
     "name": "stderr",
     "output_type": "stream",
     "text": [
      "2020-05-24 01:18:14,914 - build_posterior_wrapper took 0.003121 seconds\n",
      "2020-05-24 01:18:14,915 - TPE using 81/81 trials with best loss -0.778531\n"
     ]
    },
    {
     "name": "stdout",
     "output_type": "stream",
     "text": [
      " 82%|████████▏ | 82/100 [14:36<03:01, 10.09s/trial, best loss: -0.7785313381435932]"
     ]
    },
    {
     "name": "stderr",
     "output_type": "stream",
     "text": [
      "2020-05-24 01:18:25,586 - build_posterior_wrapper took 0.003022 seconds\n",
      "2020-05-24 01:18:25,587 - TPE using 82/82 trials with best loss -0.778531\n"
     ]
    },
    {
     "name": "stdout",
     "output_type": "stream",
     "text": [
      " 83%|████████▎ | 83/100 [14:47<02:52, 10.17s/trial, best loss: -0.7785313381435932]"
     ]
    },
    {
     "name": "stderr",
     "output_type": "stream",
     "text": [
      "2020-05-24 01:18:35,936 - build_posterior_wrapper took 0.003142 seconds\n",
      "2020-05-24 01:18:35,936 - TPE using 83/83 trials with best loss -0.778531\n"
     ]
    },
    {
     "name": "stdout",
     "output_type": "stream",
     "text": [
      " 84%|████████▍ | 84/100 [14:55<02:35,  9.73s/trial, best loss: -0.7785313381435932]"
     ]
    },
    {
     "name": "stderr",
     "output_type": "stream",
     "text": [
      "2020-05-24 01:18:44,640 - build_posterior_wrapper took 0.003257 seconds\n",
      "2020-05-24 01:18:44,641 - TPE using 84/84 trials with best loss -0.778531\n"
     ]
    },
    {
     "name": "stdout",
     "output_type": "stream",
     "text": [
      " 85%|████████▌ | 85/100 [15:06<02:28,  9.89s/trial, best loss: -0.7785313381435932]"
     ]
    },
    {
     "name": "stderr",
     "output_type": "stream",
     "text": [
      "2020-05-24 01:18:54,902 - build_posterior_wrapper took 0.003044 seconds\n",
      "2020-05-24 01:18:54,903 - TPE using 85/85 trials with best loss -0.778531\n"
     ]
    },
    {
     "name": "stdout",
     "output_type": "stream",
     "text": [
      " 86%|████████▌ | 86/100 [15:19<02:30, 10.76s/trial, best loss: -0.7785313381435932]"
     ]
    },
    {
     "name": "stderr",
     "output_type": "stream",
     "text": [
      "2020-05-24 01:19:07,690 - build_posterior_wrapper took 0.003155 seconds\n",
      "2020-05-24 01:19:07,691 - TPE using 86/86 trials with best loss -0.778531\n"
     ]
    },
    {
     "name": "stdout",
     "output_type": "stream",
     "text": [
      " 87%|████████▋ | 87/100 [15:30<02:22, 10.94s/trial, best loss: -0.7785313381435932]"
     ]
    },
    {
     "name": "stderr",
     "output_type": "stream",
     "text": [
      "2020-05-24 01:19:19,045 - build_posterior_wrapper took 0.003027 seconds\n",
      "2020-05-24 01:19:19,046 - TPE using 87/87 trials with best loss -0.778531\n"
     ]
    },
    {
     "name": "stdout",
     "output_type": "stream",
     "text": [
      " 88%|████████▊ | 88/100 [15:37<01:59,  9.93s/trial, best loss: -0.7785313381435932]"
     ]
    },
    {
     "name": "stderr",
     "output_type": "stream",
     "text": [
      "2020-05-24 01:19:26,616 - build_posterior_wrapper took 0.003220 seconds\n",
      "2020-05-24 01:19:26,617 - TPE using 88/88 trials with best loss -0.778531\n"
     ]
    },
    {
     "name": "stdout",
     "output_type": "stream",
     "text": [
      " 89%|████████▉ | 89/100 [15:49<01:53, 10.29s/trial, best loss: -0.7785313381435932]"
     ]
    },
    {
     "name": "stderr",
     "output_type": "stream",
     "text": [
      "2020-05-24 01:19:37,764 - build_posterior_wrapper took 0.003126 seconds\n",
      "2020-05-24 01:19:37,765 - TPE using 89/89 trials with best loss -0.778531\n"
     ]
    },
    {
     "name": "stdout",
     "output_type": "stream",
     "text": [
      " 90%|█████████ | 90/100 [15:57<01:37,  9.71s/trial, best loss: -0.7785313381435932]"
     ]
    },
    {
     "name": "stderr",
     "output_type": "stream",
     "text": [
      "2020-05-24 01:19:46,115 - build_posterior_wrapper took 0.003224 seconds\n",
      "2020-05-24 01:19:46,116 - TPE using 90/90 trials with best loss -0.778531\n"
     ]
    },
    {
     "name": "stdout",
     "output_type": "stream",
     "text": [
      " 91%|█████████ | 91/100 [16:08<01:30, 10.06s/trial, best loss: -0.7785313381435932]"
     ]
    },
    {
     "name": "stderr",
     "output_type": "stream",
     "text": [
      "2020-05-24 01:19:57,001 - build_posterior_wrapper took 0.003052 seconds\n",
      "2020-05-24 01:19:57,002 - TPE using 91/91 trials with best loss -0.778531\n"
     ]
    },
    {
     "name": "stdout",
     "output_type": "stream",
     "text": [
      " 92%|█████████▏| 92/100 [16:22<01:29, 11.23s/trial, best loss: -0.7785313381435932]"
     ]
    },
    {
     "name": "stderr",
     "output_type": "stream",
     "text": [
      "2020-05-24 01:20:10,950 - build_posterior_wrapper took 0.003141 seconds\n",
      "2020-05-24 01:20:10,951 - TPE using 92/92 trials with best loss -0.778531\n"
     ]
    },
    {
     "name": "stdout",
     "output_type": "stream",
     "text": [
      " 93%|█████████▎| 93/100 [16:35<01:22, 11.84s/trial, best loss: -0.7785313381435932]"
     ]
    },
    {
     "name": "stderr",
     "output_type": "stream",
     "text": [
      "2020-05-24 01:20:24,211 - build_posterior_wrapper took 0.003131 seconds\n",
      "2020-05-24 01:20:24,212 - TPE using 93/93 trials with best loss -0.778531\n"
     ]
    },
    {
     "name": "stdout",
     "output_type": "stream",
     "text": [
      " 94%|█████████▍| 94/100 [16:43<01:03, 10.57s/trial, best loss: -0.7785313381435932]"
     ]
    },
    {
     "name": "stderr",
     "output_type": "stream",
     "text": [
      "2020-05-24 01:20:31,835 - build_posterior_wrapper took 0.003234 seconds\n",
      "2020-05-24 01:20:31,836 - TPE using 94/94 trials with best loss -0.778531\n"
     ]
    },
    {
     "name": "stdout",
     "output_type": "stream",
     "text": [
      " 95%|█████████▌| 95/100 [16:51<00:50, 10.03s/trial, best loss: -0.7785313381435932]"
     ]
    },
    {
     "name": "stderr",
     "output_type": "stream",
     "text": [
      "2020-05-24 01:20:40,588 - build_posterior_wrapper took 0.003238 seconds\n",
      "2020-05-24 01:20:40,589 - TPE using 95/95 trials with best loss -0.778531\n"
     ]
    },
    {
     "name": "stdout",
     "output_type": "stream",
     "text": [
      " 96%|█████████▌| 96/100 [17:05<00:44, 11.03s/trial, best loss: -0.7785313381435932]"
     ]
    },
    {
     "name": "stderr",
     "output_type": "stream",
     "text": [
      "2020-05-24 01:20:53,963 - build_posterior_wrapper took 0.003146 seconds\n",
      "2020-05-24 01:20:53,964 - TPE using 96/96 trials with best loss -0.778531\n"
     ]
    },
    {
     "name": "stdout",
     "output_type": "stream",
     "text": [
      " 97%|█████████▋| 97/100 [17:14<00:31, 10.45s/trial, best loss: -0.7785313381435932]"
     ]
    },
    {
     "name": "stderr",
     "output_type": "stream",
     "text": [
      "2020-05-24 01:21:03,068 - build_posterior_wrapper took 0.003135 seconds\n",
      "2020-05-24 01:21:03,069 - TPE using 97/97 trials with best loss -0.778531\n"
     ]
    },
    {
     "name": "stdout",
     "output_type": "stream",
     "text": [
      " 98%|█████████▊| 98/100 [17:26<00:21, 10.82s/trial, best loss: -0.7785313381435932]"
     ]
    },
    {
     "name": "stderr",
     "output_type": "stream",
     "text": [
      "2020-05-24 01:21:14,737 - build_posterior_wrapper took 0.003650 seconds\n",
      "2020-05-24 01:21:14,738 - TPE using 98/98 trials with best loss -0.778531\n"
     ]
    },
    {
     "name": "stdout",
     "output_type": "stream",
     "text": [
      " 99%|█████████▉| 99/100 [17:34<00:10, 10.25s/trial, best loss: -0.7785313381435932]"
     ]
    },
    {
     "name": "stderr",
     "output_type": "stream",
     "text": [
      "2020-05-24 01:21:23,672 - build_posterior_wrapper took 0.003245 seconds\n",
      "2020-05-24 01:21:23,673 - TPE using 99/99 trials with best loss -0.778531\n"
     ]
    },
    {
     "name": "stdout",
     "output_type": "stream",
     "text": [
      "100%|██████████| 100/100 [17:45<00:00, 10.65s/trial, best loss: -0.7785313381435932]\n",
      "CPU times: user 1h 59min 5s, sys: 2min 6s, total: 2h 1min 12s\n",
      "Wall time: 17min 45s\n"
     ]
    }
   ],
   "source": [
    "%%time\n",
    "bayes_trials = Trials()\n",
    "\n",
    "best = fmin(fn=objective, space=space, algo=tpe.suggest, max_evals=100, trials=bayes_trials)"
   ]
  },
  {
   "cell_type": "code",
   "execution_count": 146,
   "metadata": {},
   "outputs": [
    {
     "data": {
      "text/plain": [
       "{'colsample_bytree': 1.0,\n",
       " 'learning_rate': 0.11273666179639348,\n",
       " 'min_child_samples': 433.0,\n",
       " 'num_leaves': 36.0,\n",
       " 'reg_alpha': 9.500420592781932,\n",
       " 'reg_lambda': 9.17552610004045,\n",
       " 'subsample': 1.0,\n",
       " 'subsample_for_bin': 179406.0}"
      ]
     },
     "execution_count": 146,
     "metadata": {},
     "output_type": "execute_result"
    }
   ],
   "source": [
    "best"
   ]
  },
  {
   "cell_type": "code",
   "execution_count": 147,
   "metadata": {},
   "outputs": [
    {
     "data": {
      "text/plain": [
       "-0.7785313381435932"
      ]
     },
     "execution_count": 147,
     "metadata": {},
     "output_type": "execute_result"
    }
   ],
   "source": [
    "bayes_trials.average_best_error()"
   ]
  },
  {
   "cell_type": "markdown",
   "metadata": {},
   "source": [
    "Check that same error is returned if we apply the best params directly to the objective function (the integer sampling bug was identified this way)"
   ]
  },
  {
   "cell_type": "code",
   "execution_count": 148,
   "metadata": {},
   "outputs": [
    {
     "data": {
      "text/plain": [
       "-0.7785313381435932"
      ]
     },
     "execution_count": 148,
     "metadata": {},
     "output_type": "execute_result"
    }
   ],
   "source": [
    "objective(best)"
   ]
  },
  {
   "cell_type": "code",
   "execution_count": 149,
   "metadata": {},
   "outputs": [],
   "source": [
    "hyperparameters = best.copy()\n",
    "\n",
    "for hyper in ['num_leaves', 'subsample_for_bin', 'min_child_samples']:\n",
    "    try:\n",
    "        as_int = int(hyperparameters[hyper])\n",
    "        hyperparameters[hyper] = as_int\n",
    "    except:\n",
    "        continue\n",
    "\n",
    "# Machine learning model\n",
    "lgbm = lightgbm.LGBMClassifier(**hyperparameters)\n",
    "\n",
    "# Training \n",
    "lgbm.fit(X_train, y_train)\n",
    "\n",
    "# Making predictions and evaluating\n",
    "predictions = lgbm.predict_proba(X_dev)[:,1]\n",
    "roc_auc = roc_auc_score(y_dev, predictions)"
   ]
  },
  {
   "cell_type": "code",
   "execution_count": 150,
   "metadata": {},
   "outputs": [
    {
     "data": {
      "text/plain": [
       "0.7785313381435932"
      ]
     },
     "execution_count": 150,
     "metadata": {},
     "output_type": "execute_result"
    }
   ],
   "source": [
    "roc_auc"
   ]
  },
  {
   "cell_type": "markdown",
   "metadata": {},
   "source": [
    "Compare Bayes params with random search:"
   ]
  },
  {
   "cell_type": "code",
   "execution_count": 151,
   "metadata": {},
   "outputs": [
    {
     "data": {
      "text/plain": [
       "{'colsample_bytree': 1.0,\n",
       " 'learning_rate': 0.11273666179639348,\n",
       " 'min_child_samples': 433,\n",
       " 'num_leaves': 36,\n",
       " 'reg_alpha': 9.500420592781932,\n",
       " 'reg_lambda': 9.17552610004045,\n",
       " 'subsample': 1.0,\n",
       " 'subsample_for_bin': 179406}"
      ]
     },
     "execution_count": 151,
     "metadata": {},
     "output_type": "execute_result"
    }
   ],
   "source": [
    "best"
   ]
  },
  {
   "cell_type": "code",
   "execution_count": 152,
   "metadata": {},
   "outputs": [
    {
     "data": {
      "text/plain": [
       "{'subsample_for_bin': 200000,\n",
       " 'subsample': 0.5757575757575758,\n",
       " 'reg_lambda': 15.388177500383463,\n",
       " 'reg_alpha': 17.188391428171457,\n",
       " 'num_leaves': 26,\n",
       " 'min_child_samples': 175,\n",
       " 'learning_rate': 0.12312929581752732,\n",
       " 'colsample_bytree': 0.6444444444444444}"
      ]
     },
     "execution_count": 152,
     "metadata": {},
     "output_type": "execute_result"
    }
   ],
   "source": [
    "lgbm_model_random.best_params_"
   ]
  },
  {
   "cell_type": "markdown",
   "metadata": {},
   "source": [
    "### Summary\n",
    "\n",
    "Bayes search finds a set of params which beats random search in just 24 trials!"
   ]
  },
  {
   "cell_type": "markdown",
   "metadata": {},
   "source": [
    "### Make submission"
   ]
  },
  {
   "cell_type": "code",
   "execution_count": 153,
   "metadata": {},
   "outputs": [
    {
     "data": {
      "text/plain": [
       "{'colsample_bytree': 1.0,\n",
       " 'learning_rate': 0.11273666179639348,\n",
       " 'min_child_samples': 433,\n",
       " 'num_leaves': 36,\n",
       " 'reg_alpha': 9.500420592781932,\n",
       " 'reg_lambda': 9.17552610004045,\n",
       " 'subsample': 1.0,\n",
       " 'subsample_for_bin': 179406}"
      ]
     },
     "execution_count": 153,
     "metadata": {},
     "output_type": "execute_result"
    }
   ],
   "source": [
    "hyperparameters"
   ]
  },
  {
   "cell_type": "code",
   "execution_count": 157,
   "metadata": {},
   "outputs": [
    {
     "data": {
      "text/plain": [
       "LGBMClassifier(boosting_type='gbdt', class_weight=None, colsample_bytree=1.0,\n",
       "               importance_type='split', learning_rate=0.11273666179639348,\n",
       "               max_depth=-1, min_child_samples=433, min_child_weight=0.001,\n",
       "               min_split_gain=0.0, n_estimators=100, n_jobs=-1, num_leaves=36,\n",
       "               objective=None, random_state=None, reg_alpha=9.500420592781932,\n",
       "               reg_lambda=9.17552610004045, silent=True, subsample=1.0,\n",
       "               subsample_for_bin=179406, subsample_freq=0)"
      ]
     },
     "execution_count": 157,
     "metadata": {},
     "output_type": "execute_result"
    }
   ],
   "source": [
    "lgbm = lightgbm.LGBMClassifier(**hyperparameters)\n",
    "\n",
    "# Training on train and dev\n",
    "lgbm.fit(X_train.append(X_dev), y_train.append(y_dev))"
   ]
  },
  {
   "cell_type": "code",
   "execution_count": 160,
   "metadata": {},
   "outputs": [
    {
     "data": {
      "text/plain": [
       "0.8256912723833909"
      ]
     },
     "execution_count": 160,
     "metadata": {},
     "output_type": "execute_result"
    }
   ],
   "source": [
    "roc_auc_score(y_train.append(y_dev), lgbm.predict_proba(X_train.append(X_dev))[:,1])"
   ]
  },
  {
   "cell_type": "code",
   "execution_count": 161,
   "metadata": {},
   "outputs": [
    {
     "data": {
      "text/html": [
       "<div>\n",
       "<style scoped>\n",
       "    .dataframe tbody tr th:only-of-type {\n",
       "        vertical-align: middle;\n",
       "    }\n",
       "\n",
       "    .dataframe tbody tr th {\n",
       "        vertical-align: top;\n",
       "    }\n",
       "\n",
       "    .dataframe thead th {\n",
       "        text-align: right;\n",
       "    }\n",
       "</style>\n",
       "<table border=\"1\" class=\"dataframe\">\n",
       "  <thead>\n",
       "    <tr style=\"text-align: right;\">\n",
       "      <th></th>\n",
       "      <th>SK_ID_CURR</th>\n",
       "      <th>TARGET</th>\n",
       "      <th>CNT_CHILDREN</th>\n",
       "      <th>AMT_INCOME_TOTAL</th>\n",
       "      <th>AMT_CREDIT</th>\n",
       "      <th>AMT_ANNUITY</th>\n",
       "      <th>AMT_GOODS_PRICE</th>\n",
       "      <th>REGION_POPULATION_RELATIVE</th>\n",
       "      <th>DAYS_BIRTH</th>\n",
       "      <th>DAYS_EMPLOYED</th>\n",
       "      <th>DAYS_REGISTRATION</th>\n",
       "      <th>DAYS_ID_PUBLISH</th>\n",
       "      <th>OWN_CAR_AGE</th>\n",
       "      <th>FLAG_MOBIL</th>\n",
       "      <th>FLAG_EMP_PHONE</th>\n",
       "      <th>FLAG_WORK_PHONE</th>\n",
       "      <th>FLAG_CONT_MOBILE</th>\n",
       "      <th>FLAG_PHONE</th>\n",
       "      <th>FLAG_EMAIL</th>\n",
       "      <th>CNT_FAM_MEMBERS</th>\n",
       "      <th>REGION_RATING_CLIENT</th>\n",
       "      <th>REGION_RATING_CLIENT_W_CITY</th>\n",
       "      <th>HOUR_APPR_PROCESS_START</th>\n",
       "      <th>REG_REGION_NOT_LIVE_REGION</th>\n",
       "      <th>REG_REGION_NOT_WORK_REGION</th>\n",
       "      <th>...</th>\n",
       "      <th>POS_CASH_balance_SK_DPD_amax_amin_y</th>\n",
       "      <th>POS_CASH_balance_SK_DPD_amax_amax_y</th>\n",
       "      <th>POS_CASH_balance_SK_DPD_DEF_mean_mean_y</th>\n",
       "      <th>POS_CASH_balance_SK_DPD_DEF_mean_sum_y</th>\n",
       "      <th>POS_CASH_balance_SK_DPD_DEF_mean_amin_y</th>\n",
       "      <th>POS_CASH_balance_SK_DPD_DEF_mean_amax_y</th>\n",
       "      <th>POS_CASH_balance_SK_DPD_DEF_sum_mean_y</th>\n",
       "      <th>POS_CASH_balance_SK_DPD_DEF_sum_sum_y</th>\n",
       "      <th>POS_CASH_balance_SK_DPD_DEF_sum_amin_y</th>\n",
       "      <th>POS_CASH_balance_SK_DPD_DEF_sum_amax_y</th>\n",
       "      <th>POS_CASH_balance_SK_DPD_DEF_amin_mean_y</th>\n",
       "      <th>POS_CASH_balance_SK_DPD_DEF_amin_sum_y</th>\n",
       "      <th>POS_CASH_balance_SK_DPD_DEF_amin_amin_y</th>\n",
       "      <th>POS_CASH_balance_SK_DPD_DEF_amin_amax_y</th>\n",
       "      <th>POS_CASH_balance_SK_DPD_DEF_amax_mean_y</th>\n",
       "      <th>POS_CASH_balance_SK_DPD_DEF_amax_sum_y</th>\n",
       "      <th>POS_CASH_balance_SK_DPD_DEF_amax_amin_y</th>\n",
       "      <th>POS_CASH_balance_SK_DPD_DEF_amax_amax_y</th>\n",
       "      <th>POS_CASH_balance_COUNT_COUNT_NAME_CONTRACT_STATUS_Active_y</th>\n",
       "      <th>POS_CASH_balance_COUNT_COUNT_NAME_CONTRACT_STATUS_Approved_y</th>\n",
       "      <th>POS_CASH_balance_COUNT_COUNT_NAME_CONTRACT_STATUS_Completed_y</th>\n",
       "      <th>POS_CASH_balance_COUNT_COUNT_NAME_CONTRACT_STATUS_Demand_y</th>\n",
       "      <th>POS_CASH_balance_COUNT_COUNT_NAME_CONTRACT_STATUS_Refused</th>\n",
       "      <th>POS_CASH_balance_COUNT_COUNT_NAME_CONTRACT_STATUS_Sent_proposal</th>\n",
       "      <th>POS_CASH_balance_COUNT_COUNT_NAME_CONTRACT_STATUS_Signed_y</th>\n",
       "    </tr>\n",
       "  </thead>\n",
       "  <tbody>\n",
       "    <tr>\n",
       "      <th>307511</th>\n",
       "      <td>100001</td>\n",
       "      <td>NaN</td>\n",
       "      <td>0</td>\n",
       "      <td>135000.0</td>\n",
       "      <td>568800.0</td>\n",
       "      <td>20560.5</td>\n",
       "      <td>450000.0</td>\n",
       "      <td>0.018850</td>\n",
       "      <td>-19241</td>\n",
       "      <td>-2329</td>\n",
       "      <td>-5170.0</td>\n",
       "      <td>-812</td>\n",
       "      <td>NaN</td>\n",
       "      <td>1</td>\n",
       "      <td>1</td>\n",
       "      <td>0</td>\n",
       "      <td>1</td>\n",
       "      <td>0</td>\n",
       "      <td>1</td>\n",
       "      <td>2.0</td>\n",
       "      <td>2</td>\n",
       "      <td>2</td>\n",
       "      <td>18</td>\n",
       "      <td>0</td>\n",
       "      <td>0</td>\n",
       "      <td>...</td>\n",
       "      <td>NaN</td>\n",
       "      <td>NaN</td>\n",
       "      <td>NaN</td>\n",
       "      <td>NaN</td>\n",
       "      <td>NaN</td>\n",
       "      <td>NaN</td>\n",
       "      <td>NaN</td>\n",
       "      <td>NaN</td>\n",
       "      <td>NaN</td>\n",
       "      <td>NaN</td>\n",
       "      <td>NaN</td>\n",
       "      <td>NaN</td>\n",
       "      <td>NaN</td>\n",
       "      <td>NaN</td>\n",
       "      <td>NaN</td>\n",
       "      <td>NaN</td>\n",
       "      <td>NaN</td>\n",
       "      <td>NaN</td>\n",
       "      <td>NaN</td>\n",
       "      <td>NaN</td>\n",
       "      <td>NaN</td>\n",
       "      <td>NaN</td>\n",
       "      <td>NaN</td>\n",
       "      <td>NaN</td>\n",
       "      <td>NaN</td>\n",
       "    </tr>\n",
       "    <tr>\n",
       "      <th>307512</th>\n",
       "      <td>100005</td>\n",
       "      <td>NaN</td>\n",
       "      <td>0</td>\n",
       "      <td>99000.0</td>\n",
       "      <td>222768.0</td>\n",
       "      <td>17370.0</td>\n",
       "      <td>180000.0</td>\n",
       "      <td>0.035792</td>\n",
       "      <td>-18064</td>\n",
       "      <td>-4469</td>\n",
       "      <td>-9118.0</td>\n",
       "      <td>-1623</td>\n",
       "      <td>NaN</td>\n",
       "      <td>1</td>\n",
       "      <td>1</td>\n",
       "      <td>0</td>\n",
       "      <td>1</td>\n",
       "      <td>0</td>\n",
       "      <td>0</td>\n",
       "      <td>2.0</td>\n",
       "      <td>2</td>\n",
       "      <td>2</td>\n",
       "      <td>9</td>\n",
       "      <td>0</td>\n",
       "      <td>0</td>\n",
       "      <td>...</td>\n",
       "      <td>NaN</td>\n",
       "      <td>NaN</td>\n",
       "      <td>NaN</td>\n",
       "      <td>NaN</td>\n",
       "      <td>NaN</td>\n",
       "      <td>NaN</td>\n",
       "      <td>NaN</td>\n",
       "      <td>NaN</td>\n",
       "      <td>NaN</td>\n",
       "      <td>NaN</td>\n",
       "      <td>NaN</td>\n",
       "      <td>NaN</td>\n",
       "      <td>NaN</td>\n",
       "      <td>NaN</td>\n",
       "      <td>NaN</td>\n",
       "      <td>NaN</td>\n",
       "      <td>NaN</td>\n",
       "      <td>NaN</td>\n",
       "      <td>NaN</td>\n",
       "      <td>NaN</td>\n",
       "      <td>NaN</td>\n",
       "      <td>NaN</td>\n",
       "      <td>NaN</td>\n",
       "      <td>NaN</td>\n",
       "      <td>NaN</td>\n",
       "    </tr>\n",
       "    <tr>\n",
       "      <th>307513</th>\n",
       "      <td>100013</td>\n",
       "      <td>NaN</td>\n",
       "      <td>0</td>\n",
       "      <td>202500.0</td>\n",
       "      <td>663264.0</td>\n",
       "      <td>69777.0</td>\n",
       "      <td>630000.0</td>\n",
       "      <td>0.019101</td>\n",
       "      <td>-20038</td>\n",
       "      <td>-4458</td>\n",
       "      <td>-2175.0</td>\n",
       "      <td>-3503</td>\n",
       "      <td>5.0</td>\n",
       "      <td>1</td>\n",
       "      <td>1</td>\n",
       "      <td>0</td>\n",
       "      <td>1</td>\n",
       "      <td>0</td>\n",
       "      <td>0</td>\n",
       "      <td>2.0</td>\n",
       "      <td>2</td>\n",
       "      <td>2</td>\n",
       "      <td>14</td>\n",
       "      <td>0</td>\n",
       "      <td>0</td>\n",
       "      <td>...</td>\n",
       "      <td>1.0</td>\n",
       "      <td>1.0</td>\n",
       "      <td>0.010417</td>\n",
       "      <td>0.010417</td>\n",
       "      <td>0.010417</td>\n",
       "      <td>0.010417</td>\n",
       "      <td>1.0</td>\n",
       "      <td>1.0</td>\n",
       "      <td>1.0</td>\n",
       "      <td>1.0</td>\n",
       "      <td>0.0</td>\n",
       "      <td>0.0</td>\n",
       "      <td>0.0</td>\n",
       "      <td>0.0</td>\n",
       "      <td>1.0</td>\n",
       "      <td>1.0</td>\n",
       "      <td>1.0</td>\n",
       "      <td>1.0</td>\n",
       "      <td>96.0</td>\n",
       "      <td>0.0</td>\n",
       "      <td>0.0</td>\n",
       "      <td>0.0</td>\n",
       "      <td>0.0</td>\n",
       "      <td>0.0</td>\n",
       "      <td>0.0</td>\n",
       "    </tr>\n",
       "    <tr>\n",
       "      <th>307514</th>\n",
       "      <td>100028</td>\n",
       "      <td>NaN</td>\n",
       "      <td>2</td>\n",
       "      <td>315000.0</td>\n",
       "      <td>1575000.0</td>\n",
       "      <td>49018.5</td>\n",
       "      <td>1575000.0</td>\n",
       "      <td>0.026392</td>\n",
       "      <td>-13976</td>\n",
       "      <td>-1866</td>\n",
       "      <td>-2000.0</td>\n",
       "      <td>-4208</td>\n",
       "      <td>NaN</td>\n",
       "      <td>1</td>\n",
       "      <td>1</td>\n",
       "      <td>0</td>\n",
       "      <td>1</td>\n",
       "      <td>1</td>\n",
       "      <td>0</td>\n",
       "      <td>4.0</td>\n",
       "      <td>2</td>\n",
       "      <td>2</td>\n",
       "      <td>11</td>\n",
       "      <td>0</td>\n",
       "      <td>0</td>\n",
       "      <td>...</td>\n",
       "      <td>0.0</td>\n",
       "      <td>0.0</td>\n",
       "      <td>0.000000</td>\n",
       "      <td>0.000000</td>\n",
       "      <td>0.000000</td>\n",
       "      <td>0.000000</td>\n",
       "      <td>0.0</td>\n",
       "      <td>0.0</td>\n",
       "      <td>0.0</td>\n",
       "      <td>0.0</td>\n",
       "      <td>0.0</td>\n",
       "      <td>0.0</td>\n",
       "      <td>0.0</td>\n",
       "      <td>0.0</td>\n",
       "      <td>0.0</td>\n",
       "      <td>0.0</td>\n",
       "      <td>0.0</td>\n",
       "      <td>0.0</td>\n",
       "      <td>49.0</td>\n",
       "      <td>0.0</td>\n",
       "      <td>0.0</td>\n",
       "      <td>0.0</td>\n",
       "      <td>0.0</td>\n",
       "      <td>0.0</td>\n",
       "      <td>0.0</td>\n",
       "    </tr>\n",
       "    <tr>\n",
       "      <th>307515</th>\n",
       "      <td>100038</td>\n",
       "      <td>NaN</td>\n",
       "      <td>1</td>\n",
       "      <td>180000.0</td>\n",
       "      <td>625500.0</td>\n",
       "      <td>32067.0</td>\n",
       "      <td>625500.0</td>\n",
       "      <td>0.010032</td>\n",
       "      <td>-13040</td>\n",
       "      <td>-2191</td>\n",
       "      <td>-4000.0</td>\n",
       "      <td>-4262</td>\n",
       "      <td>16.0</td>\n",
       "      <td>1</td>\n",
       "      <td>1</td>\n",
       "      <td>1</td>\n",
       "      <td>1</td>\n",
       "      <td>0</td>\n",
       "      <td>0</td>\n",
       "      <td>3.0</td>\n",
       "      <td>2</td>\n",
       "      <td>2</td>\n",
       "      <td>5</td>\n",
       "      <td>0</td>\n",
       "      <td>0</td>\n",
       "      <td>...</td>\n",
       "      <td>NaN</td>\n",
       "      <td>NaN</td>\n",
       "      <td>NaN</td>\n",
       "      <td>NaN</td>\n",
       "      <td>NaN</td>\n",
       "      <td>NaN</td>\n",
       "      <td>NaN</td>\n",
       "      <td>NaN</td>\n",
       "      <td>NaN</td>\n",
       "      <td>NaN</td>\n",
       "      <td>NaN</td>\n",
       "      <td>NaN</td>\n",
       "      <td>NaN</td>\n",
       "      <td>NaN</td>\n",
       "      <td>NaN</td>\n",
       "      <td>NaN</td>\n",
       "      <td>NaN</td>\n",
       "      <td>NaN</td>\n",
       "      <td>NaN</td>\n",
       "      <td>NaN</td>\n",
       "      <td>NaN</td>\n",
       "      <td>NaN</td>\n",
       "      <td>NaN</td>\n",
       "      <td>NaN</td>\n",
       "      <td>NaN</td>\n",
       "    </tr>\n",
       "  </tbody>\n",
       "</table>\n",
       "<p>5 rows × 1151 columns</p>\n",
       "</div>"
      ],
      "text/plain": [
       "        SK_ID_CURR  TARGET  CNT_CHILDREN  AMT_INCOME_TOTAL  AMT_CREDIT  \\\n",
       "307511      100001     NaN             0          135000.0    568800.0   \n",
       "307512      100005     NaN             0           99000.0    222768.0   \n",
       "307513      100013     NaN             0          202500.0    663264.0   \n",
       "307514      100028     NaN             2          315000.0   1575000.0   \n",
       "307515      100038     NaN             1          180000.0    625500.0   \n",
       "\n",
       "        AMT_ANNUITY  AMT_GOODS_PRICE  REGION_POPULATION_RELATIVE  DAYS_BIRTH  \\\n",
       "307511      20560.5         450000.0                    0.018850      -19241   \n",
       "307512      17370.0         180000.0                    0.035792      -18064   \n",
       "307513      69777.0         630000.0                    0.019101      -20038   \n",
       "307514      49018.5        1575000.0                    0.026392      -13976   \n",
       "307515      32067.0         625500.0                    0.010032      -13040   \n",
       "\n",
       "        DAYS_EMPLOYED  DAYS_REGISTRATION  DAYS_ID_PUBLISH  OWN_CAR_AGE  \\\n",
       "307511          -2329            -5170.0             -812          NaN   \n",
       "307512          -4469            -9118.0            -1623          NaN   \n",
       "307513          -4458            -2175.0            -3503          5.0   \n",
       "307514          -1866            -2000.0            -4208          NaN   \n",
       "307515          -2191            -4000.0            -4262         16.0   \n",
       "\n",
       "        FLAG_MOBIL  FLAG_EMP_PHONE  FLAG_WORK_PHONE  FLAG_CONT_MOBILE  \\\n",
       "307511           1               1                0                 1   \n",
       "307512           1               1                0                 1   \n",
       "307513           1               1                0                 1   \n",
       "307514           1               1                0                 1   \n",
       "307515           1               1                1                 1   \n",
       "\n",
       "        FLAG_PHONE  FLAG_EMAIL  CNT_FAM_MEMBERS  REGION_RATING_CLIENT  \\\n",
       "307511           0           1              2.0                     2   \n",
       "307512           0           0              2.0                     2   \n",
       "307513           0           0              2.0                     2   \n",
       "307514           1           0              4.0                     2   \n",
       "307515           0           0              3.0                     2   \n",
       "\n",
       "        REGION_RATING_CLIENT_W_CITY  HOUR_APPR_PROCESS_START  \\\n",
       "307511                            2                       18   \n",
       "307512                            2                        9   \n",
       "307513                            2                       14   \n",
       "307514                            2                       11   \n",
       "307515                            2                        5   \n",
       "\n",
       "        REG_REGION_NOT_LIVE_REGION  REG_REGION_NOT_WORK_REGION  ...  \\\n",
       "307511                           0                           0  ...   \n",
       "307512                           0                           0  ...   \n",
       "307513                           0                           0  ...   \n",
       "307514                           0                           0  ...   \n",
       "307515                           0                           0  ...   \n",
       "\n",
       "        POS_CASH_balance_SK_DPD_amax_amin_y  \\\n",
       "307511                                  NaN   \n",
       "307512                                  NaN   \n",
       "307513                                  1.0   \n",
       "307514                                  0.0   \n",
       "307515                                  NaN   \n",
       "\n",
       "        POS_CASH_balance_SK_DPD_amax_amax_y  \\\n",
       "307511                                  NaN   \n",
       "307512                                  NaN   \n",
       "307513                                  1.0   \n",
       "307514                                  0.0   \n",
       "307515                                  NaN   \n",
       "\n",
       "        POS_CASH_balance_SK_DPD_DEF_mean_mean_y  \\\n",
       "307511                                      NaN   \n",
       "307512                                      NaN   \n",
       "307513                                 0.010417   \n",
       "307514                                 0.000000   \n",
       "307515                                      NaN   \n",
       "\n",
       "        POS_CASH_balance_SK_DPD_DEF_mean_sum_y  \\\n",
       "307511                                     NaN   \n",
       "307512                                     NaN   \n",
       "307513                                0.010417   \n",
       "307514                                0.000000   \n",
       "307515                                     NaN   \n",
       "\n",
       "        POS_CASH_balance_SK_DPD_DEF_mean_amin_y  \\\n",
       "307511                                      NaN   \n",
       "307512                                      NaN   \n",
       "307513                                 0.010417   \n",
       "307514                                 0.000000   \n",
       "307515                                      NaN   \n",
       "\n",
       "        POS_CASH_balance_SK_DPD_DEF_mean_amax_y  \\\n",
       "307511                                      NaN   \n",
       "307512                                      NaN   \n",
       "307513                                 0.010417   \n",
       "307514                                 0.000000   \n",
       "307515                                      NaN   \n",
       "\n",
       "        POS_CASH_balance_SK_DPD_DEF_sum_mean_y  \\\n",
       "307511                                     NaN   \n",
       "307512                                     NaN   \n",
       "307513                                     1.0   \n",
       "307514                                     0.0   \n",
       "307515                                     NaN   \n",
       "\n",
       "        POS_CASH_balance_SK_DPD_DEF_sum_sum_y  \\\n",
       "307511                                    NaN   \n",
       "307512                                    NaN   \n",
       "307513                                    1.0   \n",
       "307514                                    0.0   \n",
       "307515                                    NaN   \n",
       "\n",
       "        POS_CASH_balance_SK_DPD_DEF_sum_amin_y  \\\n",
       "307511                                     NaN   \n",
       "307512                                     NaN   \n",
       "307513                                     1.0   \n",
       "307514                                     0.0   \n",
       "307515                                     NaN   \n",
       "\n",
       "        POS_CASH_balance_SK_DPD_DEF_sum_amax_y  \\\n",
       "307511                                     NaN   \n",
       "307512                                     NaN   \n",
       "307513                                     1.0   \n",
       "307514                                     0.0   \n",
       "307515                                     NaN   \n",
       "\n",
       "        POS_CASH_balance_SK_DPD_DEF_amin_mean_y  \\\n",
       "307511                                      NaN   \n",
       "307512                                      NaN   \n",
       "307513                                      0.0   \n",
       "307514                                      0.0   \n",
       "307515                                      NaN   \n",
       "\n",
       "        POS_CASH_balance_SK_DPD_DEF_amin_sum_y  \\\n",
       "307511                                     NaN   \n",
       "307512                                     NaN   \n",
       "307513                                     0.0   \n",
       "307514                                     0.0   \n",
       "307515                                     NaN   \n",
       "\n",
       "        POS_CASH_balance_SK_DPD_DEF_amin_amin_y  \\\n",
       "307511                                      NaN   \n",
       "307512                                      NaN   \n",
       "307513                                      0.0   \n",
       "307514                                      0.0   \n",
       "307515                                      NaN   \n",
       "\n",
       "        POS_CASH_balance_SK_DPD_DEF_amin_amax_y  \\\n",
       "307511                                      NaN   \n",
       "307512                                      NaN   \n",
       "307513                                      0.0   \n",
       "307514                                      0.0   \n",
       "307515                                      NaN   \n",
       "\n",
       "        POS_CASH_balance_SK_DPD_DEF_amax_mean_y  \\\n",
       "307511                                      NaN   \n",
       "307512                                      NaN   \n",
       "307513                                      1.0   \n",
       "307514                                      0.0   \n",
       "307515                                      NaN   \n",
       "\n",
       "        POS_CASH_balance_SK_DPD_DEF_amax_sum_y  \\\n",
       "307511                                     NaN   \n",
       "307512                                     NaN   \n",
       "307513                                     1.0   \n",
       "307514                                     0.0   \n",
       "307515                                     NaN   \n",
       "\n",
       "        POS_CASH_balance_SK_DPD_DEF_amax_amin_y  \\\n",
       "307511                                      NaN   \n",
       "307512                                      NaN   \n",
       "307513                                      1.0   \n",
       "307514                                      0.0   \n",
       "307515                                      NaN   \n",
       "\n",
       "        POS_CASH_balance_SK_DPD_DEF_amax_amax_y  \\\n",
       "307511                                      NaN   \n",
       "307512                                      NaN   \n",
       "307513                                      1.0   \n",
       "307514                                      0.0   \n",
       "307515                                      NaN   \n",
       "\n",
       "        POS_CASH_balance_COUNT_COUNT_NAME_CONTRACT_STATUS_Active_y  \\\n",
       "307511                                                NaN            \n",
       "307512                                                NaN            \n",
       "307513                                               96.0            \n",
       "307514                                               49.0            \n",
       "307515                                                NaN            \n",
       "\n",
       "        POS_CASH_balance_COUNT_COUNT_NAME_CONTRACT_STATUS_Approved_y  \\\n",
       "307511                                                NaN              \n",
       "307512                                                NaN              \n",
       "307513                                                0.0              \n",
       "307514                                                0.0              \n",
       "307515                                                NaN              \n",
       "\n",
       "        POS_CASH_balance_COUNT_COUNT_NAME_CONTRACT_STATUS_Completed_y  \\\n",
       "307511                                                NaN               \n",
       "307512                                                NaN               \n",
       "307513                                                0.0               \n",
       "307514                                                0.0               \n",
       "307515                                                NaN               \n",
       "\n",
       "        POS_CASH_balance_COUNT_COUNT_NAME_CONTRACT_STATUS_Demand_y  \\\n",
       "307511                                                NaN            \n",
       "307512                                                NaN            \n",
       "307513                                                0.0            \n",
       "307514                                                0.0            \n",
       "307515                                                NaN            \n",
       "\n",
       "        POS_CASH_balance_COUNT_COUNT_NAME_CONTRACT_STATUS_Refused  \\\n",
       "307511                                                NaN           \n",
       "307512                                                NaN           \n",
       "307513                                                0.0           \n",
       "307514                                                0.0           \n",
       "307515                                                NaN           \n",
       "\n",
       "        POS_CASH_balance_COUNT_COUNT_NAME_CONTRACT_STATUS_Sent_proposal  \\\n",
       "307511                                                NaN                 \n",
       "307512                                                NaN                 \n",
       "307513                                                0.0                 \n",
       "307514                                                0.0                 \n",
       "307515                                                NaN                 \n",
       "\n",
       "        POS_CASH_balance_COUNT_COUNT_NAME_CONTRACT_STATUS_Signed_y  \n",
       "307511                                                NaN           \n",
       "307512                                                NaN           \n",
       "307513                                                0.0           \n",
       "307514                                                0.0           \n",
       "307515                                                NaN           \n",
       "\n",
       "[5 rows x 1151 columns]"
      ]
     },
     "execution_count": 161,
     "metadata": {},
     "output_type": "execute_result"
    }
   ],
   "source": [
    "test_kaggle.head()"
   ]
  },
  {
   "cell_type": "code",
   "execution_count": 162,
   "metadata": {},
   "outputs": [],
   "source": [
    "predictions = lgbm.predict_proba(test_kaggle[FINAL_FEATURES])[:,1]"
   ]
  },
  {
   "cell_type": "code",
   "execution_count": 163,
   "metadata": {},
   "outputs": [],
   "source": [
    "test_kaggle['TARGET'] = predictions"
   ]
  },
  {
   "cell_type": "code",
   "execution_count": 164,
   "metadata": {},
   "outputs": [],
   "source": [
    "test_kaggle[['SK_ID_CURR', 'TARGET']].to_csv('data/processed/best_lgbm_with_bayes.csv', index=False)"
   ]
  },
  {
   "cell_type": "code",
   "execution_count": 165,
   "metadata": {},
   "outputs": [
    {
     "name": "stdout",
     "output_type": "stream",
     "text": [
      "100%|███████████████████████████████████████| 1.26M/1.26M [00:08<00:00, 150kB/s]\n",
      "Successfully submitted to Home Credit Default Risk"
     ]
    }
   ],
   "source": [
    "!kaggle competitions submit -c home-credit-default-risk -f data/processed/best_lgbm_with_bayes.csv -m \"best_lgbm_with_bayes\""
   ]
  },
  {
   "cell_type": "markdown",
   "metadata": {},
   "source": [
    "Private score: 0.77566\n",
    "\n",
    "Public score: 0.77324\n",
    "\n",
    "Interestingly the model performs worse than the model found using random search. This may be a consequence of using cross validation for random search and a single validation set for Bayes. Therefore our Bayes parameters may be 'overfit' to the dev set. The objective function could be modified to use cross validation at the expense of time to compute."
   ]
  }
 ],
 "metadata": {
  "kernelspec": {
   "display_name": "Python 3",
   "language": "python",
   "name": "python3"
  },
  "language_info": {
   "codemirror_mode": {
    "name": "ipython",
    "version": 3
   },
   "file_extension": ".py",
   "mimetype": "text/x-python",
   "name": "python",
   "nbconvert_exporter": "python",
   "pygments_lexer": "ipython3",
   "version": "3.7.6"
  }
 },
 "nbformat": 4,
 "nbformat_minor": 4
}
